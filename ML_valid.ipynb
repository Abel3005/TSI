{
 "cells": [
  {
   "cell_type": "markdown",
   "metadata": {},
   "source": [
    "### 데이터 전처리\n"
   ]
  },
  {
   "cell_type": "code",
   "execution_count": 7,
   "metadata": {},
   "outputs": [],
   "source": [
    "from util import preprocessing_simple_train\n",
    "from util import month_to_day, make_mean\n",
    "import pandas as pd\n",
    "import numpy as np\n",
    "\n",
    "mean_df = preprocessing_simple_train(\"fast\")\n",
    "tmp = month_to_day(mean_df['rainfall_train.ef_month']) + mean_df['rainfall_train.ef_day'] \n",
    "\n",
    "mean_df['daysin'] = np.sin(tmp)\n",
    "mean_df['daycos'] = np.cos(tmp)\n",
    "mean_df['day'] = tmp\n",
    "mean_df = make_mean(mean_df,15)\n",
    "r_df = pd.read_csv('./data/rainfall_train.csv')[['rainfall_train.stn4contest','rainfall_train.ef_year','rainfall_train.ef_month','rainfall_train.ef_day','rainfall_train.ef_hour','rainfall_train.class_interval']]\n",
    "r_df = r_df[r_df['rainfall_train.class_interval'] != -999]\n",
    "\n",
    "tmp = mean_df.groupby(by=['rainfall_train.ef_year','rainfall_train.stn4contest','day'])['v_median'].mean().reset_index().copy()\n",
    "tmp = tmp.rename(columns={'v_median':'day_vmedian'})\n",
    "\n",
    "\n",
    "mean_df = pd.merge(mean_df,tmp,how='left',on=['rainfall_train.ef_year','rainfall_train.stn4contest','day'])\n",
    "\n",
    "_stn = [f\"STN{format(i,'03')}\" for i in range(1,21)]\n",
    "mean_df['prev_vmedian'] = None\n",
    "mean_df['post_vmedian'] = None\n",
    "\n",
    "\n",
    "for i in mean_df['rainfall_train.ef_year'].unique(): \n",
    "    for j in _stn:\n",
    "        tmp = mean_df[(mean_df['rainfall_train.stn4contest'] == j) & (mean_df['rainfall_train.ef_year'] == i)].sort_values(['day'])\n",
    "        mean_df.loc[tmp.index,'prev_vmedian'] = (tmp['v_median'] - tmp['v_median'].shift(-5).fillna(tmp.loc[tmp.index[-1], 'v_median']))/5.0\n",
    "        mean_df.loc[tmp.index,'post_vmedian'] = (tmp['v_median'].shift(5).fillna(tmp.loc[tmp.index[0], 'v_median']) - tmp['v_median'])/5.0\n",
    "\n"
   ]
  },
  {
   "cell_type": "markdown",
   "metadata": {},
   "source": [
    "### 테스트/ 검증 데이터 결정\n",
    "####  테스트데이터"
   ]
  },
  {
   "cell_type": "code",
   "execution_count": 13,
   "metadata": {},
   "outputs": [
    {
     "data": {
      "text/plain": [
       "Index(['rainfall_train.stn4contest', 'rainfall_train.dh_x',\n",
       "       'rainfall_train.ef_year', 'rainfall_train.ef_month',\n",
       "       'rainfall_train.ef_day', 'rainfall_train.ef_hour', 'rainfall_train.v01',\n",
       "       'rainfall_train.v02', 'rainfall_train.v03', 'rainfall_train.v04',\n",
       "       'rainfall_train.v05', 'rainfall_train.v06', 'rainfall_train.v07',\n",
       "       'rainfall_train.v08', 'rainfall_train.v09', 'rainfall_train.vv',\n",
       "       'rainfall_train.class_interval', 'rainfall_train.v00', 'v_max',\n",
       "       'v_median', 'daysin', 'daycos', 'day', 'mean_vmax', 'mean_vmedian',\n",
       "       'day_vmedian', 'prev_vmedian', 'post_vmedian', 'mean_class',\n",
       "       'freq_class'],\n",
       "      dtype='object')"
      ]
     },
     "execution_count": 13,
     "metadata": {},
     "output_type": "execute_result"
    }
   ],
   "source": [
    "ctrain_df.columns"
   ]
  },
  {
   "cell_type": "code",
   "execution_count": 17,
   "metadata": {},
   "outputs": [
    {
     "name": "stdout",
     "output_type": "stream",
     "text": [
      "A년train: 0.6469548667754215\n",
      "A년valid: 0.21792656587473003\n",
      "\n",
      "B년train: 0.6325075075075075\n",
      "B년valid: 0.23435152729093642\n",
      "\n",
      "C년train: 0.6222170686456401\n",
      "C년valid: 0.21267102914931588\n",
      "\n"
     ]
    }
   ],
   "source": [
    "from util import make_day2class, make_day2freqclass\n",
    "from sklearn.preprocessing import StandardScaler\n",
    "import pandas as pd \n",
    "from sklearn.ensemble import RandomForestClassifier, ExtraTreesClassifier, GradientBoostingClassifier\n",
    "from util import compute_csi\n",
    "\n",
    "feature_list1 = ['rainfall_train.v01', 'rainfall_train.v02', 'rainfall_train.v03',\n",
    "        'rainfall_train.v04', 'rainfall_train.v05', 'rainfall_train.v06',\n",
    "        'rainfall_train.v07', 'rainfall_train.v08', 'rainfall_train.v09',\n",
    "        'rainfall_train.v00', 'v_median', 'mean_vmedian', 'day_vmedian']\n",
    "\n",
    "feature_list2 = ['rainfall_train.v01', 'rainfall_train.v02', 'rainfall_train.v03',\n",
    "       'rainfall_train.v04', 'rainfall_train.v05', 'rainfall_train.v06',\n",
    "       'rainfall_train.v07', 'rainfall_train.v08', 'rainfall_train.v09',\n",
    "       'rainfall_train.v00', 'v_median', 'mean_vmedian', 'day_vmedian',\n",
    "       'prev_vmedian', 'post_vmedian']\n",
    "\n",
    "for _year in mean_df['rainfall_train.ef_year'].unique():\n",
    "    train_df = mean_df[mean_df['rainfall_train.ef_year'] != _year].reset_index(drop=True)\n",
    "    test_df = mean_df[mean_df['rainfall_train.ef_year'] == _year].reset_index(drop=True)\n",
    "    rtrain_df = r_df[r_df['rainfall_train.ef_year'] != _year].reset_index(drop=True)\n",
    "    rtest_df = r_df[r_df['rainfall_train.ef_year'] == _year].reset_index(drop=True)\n",
    "\n",
    "    day2class = make_day2class(train_df)\n",
    "    day2freqclass = make_day2freqclass(train_df)\n",
    "\n",
    "    day2class=day2class.rename(columns={\"rainfall_train.class_interval\":\"mean_class\"})\n",
    "    day2class['mean_class'] = StandardScaler().fit_transform(day2class[['mean_class']])\n",
    "\n",
    "    day2freqclass=day2freqclass.rename(columns={\"rainfall_train.class_interval\":\"freq_class\"})\n",
    "    train_df = pd.merge(train_df,day2class,how=\"left\",on=['day']).copy()\n",
    "    train_df = pd.merge(train_df,day2freqclass,how=\"left\",on=['day']).copy()\n",
    "    train_df['freq_class'] = train_df['freq_class'].fillna(0)\n",
    "    test_df = pd.merge(test_df,day2class,how=\"left\",on=['day']).copy()\n",
    "    test_df = pd.merge(test_df,day2freqclass,how=\"left\",on=['day']).copy()\n",
    "    test_df['freq_class'] = test_df['freq_class'].fillna(0)\n",
    "#### -----model hyperparameter -----###\n",
    "    m_c = GradientBoostingClassifier(n_estimators=10,random_state=42,max_depth=8,criterion='squared_error')\n",
    "#### -----model hyperparameter -----###\n",
    "\n",
    "    ctrain_df = train_df[train_df['rainfall_train.class_interval'] != 0]\n",
    "    ctest_df = test_df[test_df['rainfall_train.class_interval'] != 0]\n",
    "\n",
    "    \n",
    "\n",
    "    CX = ctrain_df[feature_list1]\n",
    "    CX_V= ctest_df[feature_list1]\n",
    "    CY = ctrain_df[\"rainfall_train.class_interval\"]\n",
    "    CY_V = ctest_df[\"rainfall_train.class_interval\"]\n",
    "    m_c.fit(CX,CY)\n",
    "    CY_prev =m_c.predict(CX_V)\n",
    "\n",
    "    print(f\"{_year}년train: {compute_csi(CY,m_c.predict(CX))}\")\n",
    "    print(f\"{_year}년valid: {compute_csi(CY_V,CY_prev)}\")\n",
    "    print()"
   ]
  },
  {
   "cell_type": "code",
   "execution_count": 11,
   "metadata": {},
   "outputs": [
    {
     "data": {
      "text/plain": [
       "5    1546\n",
       "2    1411\n",
       "7     247\n",
       "6     158\n",
       "Name: count, dtype: int64"
      ]
     },
     "execution_count": 11,
     "metadata": {},
     "output_type": "execute_result"
    }
   ],
   "source": [
    "pd.Series(CY_prev).value_counts()"
   ]
  },
  {
   "cell_type": "code",
   "execution_count": null,
   "metadata": {},
   "outputs": [],
   "source": []
  }
 ],
 "metadata": {
  "kernelspec": {
   "display_name": "base",
   "language": "python",
   "name": "python3"
  },
  "language_info": {
   "codemirror_mode": {
    "name": "ipython",
    "version": 3
   },
   "file_extension": ".py",
   "mimetype": "text/x-python",
   "name": "python",
   "nbconvert_exporter": "python",
   "pygments_lexer": "ipython3",
   "version": "3.10.13"
  }
 },
 "nbformat": 4,
 "nbformat_minor": 2
}
