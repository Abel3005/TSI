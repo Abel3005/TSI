{
 "cells": [
  {
   "cell_type": "markdown",
   "metadata": {},
   "source": [
    "### 데이터 전처리\n"
   ]
  },
  {
   "cell_type": "code",
   "execution_count": 1,
   "metadata": {},
   "outputs": [],
   "source": [
    "from util import preprocessing_simple_train\n",
    "from util import month_to_day, make_mean\n",
    "import pandas as pd\n",
    "import numpy as np\n",
    "\n",
    "mean_df = preprocessing_simple_train(\"fast\")\n",
    "tmp = month_to_day(mean_df['rainfall_train.ef_month']) + mean_df['rainfall_train.ef_day'] \n",
    "\n",
    "mean_df['daysin'] = np.sin(tmp)\n",
    "mean_df['daycos'] = np.cos(tmp)\n",
    "mean_df['day'] = tmp\n",
    "mean_df = make_mean(mean_df,15)\n",
    "r_df = pd.read_csv('./data/rainfall_train.csv')[['rainfall_train.stn4contest','rainfall_train.ef_year','rainfall_train.ef_month','rainfall_train.ef_day','rainfall_train.ef_hour','rainfall_train.class_interval']]\n",
    "r_df = r_df[r_df['rainfall_train.class_interval'] != -999]"
   ]
  },
  {
   "cell_type": "markdown",
   "metadata": {},
   "source": [
    "### 테스트/ 검증 데이터 결정\n",
    "####  테스트데이터"
   ]
  },
  {
   "cell_type": "code",
   "execution_count": 23,
   "metadata": {},
   "outputs": [],
   "source": [
    "from util import make_day2class, make_day2freqclass\n",
    "from sklearn.preprocessing import StandardScaler\n",
    "import pandas as pd \n",
    "\n",
    "_year = \"A\"\n",
    "\n",
    "train_df = mean_df[mean_df['rainfall_train.ef_year'] != _year].reset_index(drop=True)\n",
    "test_df = mean_df[mean_df['rainfall_train.ef_year'] == _year].reset_index(drop=True)\n",
    "rtrain_df = r_df[r_df['rainfall_train.ef_year'] != _year].reset_index(drop=True)\n",
    "rtest_df = r_df[r_df['rainfall_train.ef_year'] == _year].reset_index(drop=True)\n",
    "\n",
    "day2class = make_day2class(train_df)\n",
    "day2freqclass = make_day2freqclass(train_df)\n",
    "\n",
    "day2class=day2class.rename(columns={\"rainfall_train.class_interval\":\"mean_class\"})\n",
    "day2class['mean_class'] = StandardScaler().fit_transform(day2class[['mean_class']])\n",
    "\n",
    "day2freqclass=day2freqclass.rename(columns={\"rainfall_train.class_interval\":\"freq_class\"})\n",
    "train_df = pd.merge(train_df,day2class,how=\"left\",on=['day']).copy()\n",
    "train_df = pd.merge(train_df,day2freqclass,how=\"left\",on=['day']).copy()\n",
    "train_df['freq_class'] = train_df['freq_class'].fillna(0)\n",
    "test_df = pd.merge(test_df,day2class,how=\"left\",on=['day']).copy()\n",
    "test_df = pd.merge(test_df,day2freqclass,how=\"left\",on=['day']).copy()\n",
    "test_df['freq_class'] = test_df['freq_class'].fillna(0)"
   ]
  },
  {
   "cell_type": "markdown",
   "metadata": {},
   "source": [
    "#### 제출용 데이터"
   ]
  },
  {
   "cell_type": "code",
   "execution_count": 12,
   "metadata": {},
   "outputs": [],
   "source": [
    "from util import make_day2class\n",
    "import pandas as pd \n",
    "day2class = make_day2class(mean_df)\n",
    "day2class=day2class.rename(columns={\"rainfall_train.class_interval\":\"mean_class\"})\n",
    "day2class['mean_class'] = StandardScaler().fit_transform(day2class[['mean_class']])\n",
    "\n",
    "day2freqclass = make_day2freqclass(train_df)\n",
    "day2freqclass=day2freqclass.rename(columns={\"rainfall_train.class_interval\":\"freq_class\"})\n",
    "train_df = pd.merge(mean_df,day2class,how=\"left\",on=['day']).copy()\n",
    "train_df = pd.merge(train_df,day2freqclass,how=\"left\",on=['day']).copy()"
   ]
  },
  {
   "cell_type": "markdown",
   "metadata": {},
   "source": [
    "### 무강수/강수 데이터 만들기"
   ]
  },
  {
   "cell_type": "code",
   "execution_count": 24,
   "metadata": {},
   "outputs": [],
   "source": [
    "X = train_df.drop(columns=[\"rainfall_train.stn4contest\",\"rainfall_train.ef_year\",\"rainfall_train.ef_month\",\"rainfall_train.ef_day\",\"rainfall_train.vv\",\"rainfall_train.class_interval\",'v_max','v_median','day','freq_class','rainfall_train.dh_x','mean_vmax','daysin','daycos'])\n",
    "Y = train_df[\"rainfall_train.class_interval\"]\n",
    "X_V = test_df.drop(columns=[\"rainfall_train.stn4contest\",\"rainfall_train.ef_year\",\"rainfall_train.ef_month\",\"rainfall_train.ef_day\",\"rainfall_train.vv\",\"rainfall_train.class_interval\",'v_max','v_median','day','freq_class','rainfall_train.dh_x','mean_vmax','daycos','daysin'])\n",
    "Y_V = test_df[\"rainfall_train.class_interval\"]"
   ]
  },
  {
   "cell_type": "code",
   "execution_count": 25,
   "metadata": {},
   "outputs": [
    {
     "data": {
      "text/plain": [
       "Index(['rainfall_train.ef_hour', 'rainfall_train.v01', 'rainfall_train.v02',\n",
       "       'rainfall_train.v03', 'rainfall_train.v04', 'rainfall_train.v05',\n",
       "       'rainfall_train.v06', 'rainfall_train.v07', 'rainfall_train.v08',\n",
       "       'rainfall_train.v09', 'rainfall_train.v00', 'mean_vmedian',\n",
       "       'mean_class'],\n",
       "      dtype='object')"
      ]
     },
     "execution_count": 25,
     "metadata": {},
     "output_type": "execute_result"
    }
   ],
   "source": [
    "X.columns"
   ]
  },
  {
   "cell_type": "markdown",
   "metadata": {},
   "source": [
    "## 강수/무강수 분류"
   ]
  },
  {
   "cell_type": "code",
   "execution_count": 26,
   "metadata": {},
   "outputs": [
    {
     "name": "stdout",
     "output_type": "stream",
     "text": [
      "무강수/강수 분류 train_score: 0.9202846699800808\n",
      "무강수/강수 분류 valid_score: 0.9055551251259006\n"
     ]
    }
   ],
   "source": [
    "from sklearn.ensemble import RandomForestClassifier\n",
    "from sklearn.ensemble import ExtraTreesClassifier\n",
    "from sklearn.metrics import accuracy_score\n",
    "m_b = RandomForestClassifier(n_estimators= 175, criterion = 'log_loss', max_depth = 12,max_leaf_nodes = 45, random_state=42) \n",
    "m_b.fit(X,Y==0)\n",
    "Y_prev = m_b.predict(X_V)\n",
    "print(f\"무강수/강수 분류 train_score: {accuracy_score(Y==0,m_b.predict(X))}\")\n",
    "print(f\"무강수/강수 분류 valid_score: {accuracy_score(Y_V==0,Y_prev)}\")"
   ]
  },
  {
   "cell_type": "markdown",
   "metadata": {},
   "source": [
    "## 강수 무강수 데이터"
   ]
  },
  {
   "cell_type": "code",
   "execution_count": 27,
   "metadata": {},
   "outputs": [],
   "source": [
    "ctrain_df = train_df[train_df['rainfall_train.class_interval'] != 0]\n",
    "ctest_df = test_df[test_df['rainfall_train.class_interval'] != 0]\n",
    "\n",
    "\n",
    "CX = ctrain_df.drop(columns=[\"rainfall_train.stn4contest\",\"rainfall_train.ef_year\",\"rainfall_train.ef_month\",\"rainfall_train.ef_day\",\"rainfall_train.vv\",\"rainfall_train.class_interval\",'v_max','day','daysin','daycos','mean_vmax','v_median','rainfall_train.v00','freq_class','rainfall_train.dh_x'])\n",
    "CX['rainfall_train.ef_hour'] /= 24.0\n",
    "CY = ctrain_df[\"rainfall_train.class_interval\"]\n",
    "CX_V = ctest_df.drop(columns=[\"rainfall_train.stn4contest\",\"rainfall_train.ef_year\",\"rainfall_train.ef_month\",\"rainfall_train.ef_day\",\"rainfall_train.vv\",\"rainfall_train.class_interval\",'v_max','day','daysin','daycos','mean_vmax','v_median','rainfall_train.v00','freq_class','rainfall_train.dh_x'])\n",
    "CX_V['rainfall_train.ef_hour'] /= 24.0\n",
    "CY_V = ctest_df[\"rainfall_train.class_interval\"]"
   ]
  },
  {
   "cell_type": "code",
   "execution_count": 28,
   "metadata": {},
   "outputs": [
    {
     "data": {
      "text/plain": [
       "Index(['rainfall_train.ef_hour', 'rainfall_train.v01', 'rainfall_train.v02',\n",
       "       'rainfall_train.v03', 'rainfall_train.v04', 'rainfall_train.v05',\n",
       "       'rainfall_train.v06', 'rainfall_train.v07', 'rainfall_train.v08',\n",
       "       'rainfall_train.v09', 'mean_vmedian', 'mean_class'],\n",
       "      dtype='object')"
      ]
     },
     "execution_count": 28,
     "metadata": {},
     "output_type": "execute_result"
    }
   ],
   "source": [
    "CX.columns\n"
   ]
  },
  {
   "cell_type": "code",
   "execution_count": 29,
   "metadata": {},
   "outputs": [
    {
     "name": "stdout",
     "output_type": "stream",
     "text": [
      "train_DH 최소 : 0.6412452419793366\n",
      "valid_DH 최소 : 0.24967602591792656\n"
     ]
    }
   ],
   "source": [
    "from sklearn.ensemble import RandomForestClassifier, ExtraTreesClassifier\n",
    "from util import compute_csi\n",
    "m_c = RandomForestClassifier(n_estimators=150,random_state=42,max_depth=10,criterion='gini')\n",
    "m_c.fit(CX,CY)\n",
    "CY_prev =m_c.predict(CX_V)\n",
    "print(f\"train_DH 최소 : {compute_csi(CY,m_c.predict(CX))}\")\n",
    "print(f\"valid_DH 최소 : {compute_csi(CY_V,CY_prev)}\")"
   ]
  },
  {
   "cell_type": "code",
   "execution_count": 19,
   "metadata": {},
   "outputs": [
    {
     "data": {
      "text/plain": [
       "Index(['rainfall_train.ef_hour', 'rainfall_train.v01', 'rainfall_train.v02',\n",
       "       'rainfall_train.v03', 'rainfall_train.v04', 'rainfall_train.v05',\n",
       "       'rainfall_train.v06', 'rainfall_train.v07', 'rainfall_train.v08',\n",
       "       'rainfall_train.v09', 'mean_vmedian', 'mean_class'],\n",
       "      dtype='object')"
      ]
     },
     "execution_count": 19,
     "metadata": {},
     "output_type": "execute_result"
    }
   ],
   "source": [
    "CX.columns"
   ]
  },
  {
   "cell_type": "code",
   "execution_count": 20,
   "metadata": {},
   "outputs": [
    {
     "name": "stdout",
     "output_type": "stream",
     "text": [
      "DH 최소 : 0.24967602591792656\n"
     ]
    }
   ],
   "source": [
    "CY_prev =np.where(ctest_df['rainfall_train.dh_x'] >200,ctest_df['freq_class'],CY_prev)\n",
    "print(f\"DH 최소 : {compute_csi(CY_V,CY_prev)}\")"
   ]
  },
  {
   "cell_type": "code",
   "execution_count": 21,
   "metadata": {},
   "outputs": [
    {
     "data": {
      "text/plain": [
       "([0, 1, 2, 3, 4, 5, 6, 7, 8, 9, 10, 11],\n",
       " [Text(0, 0, ''),\n",
       "  Text(0, 0, ''),\n",
       "  Text(0, 0, ''),\n",
       "  Text(0, 0, ''),\n",
       "  Text(0, 0, ''),\n",
       "  Text(0, 0, ''),\n",
       "  Text(0, 0, ''),\n",
       "  Text(0, 0, ''),\n",
       "  Text(0, 0, ''),\n",
       "  Text(0, 0, ''),\n",
       "  Text(0, 0, ''),\n",
       "  Text(0, 0, '')])"
      ]
     },
     "execution_count": 21,
     "metadata": {},
     "output_type": "execute_result"
    },
    {
     "data": {
      "image/png": "[encoded data removed]",
      "text/plain": [
       "<Figure size 432x288 with 1 Axes>"
      ]
     },
     "metadata": {
      "needs_background": "light"
     },
     "output_type": "display_data"
    }
   ],
   "source": [
    "import seaborn as sns\n",
    "import matplotlib.pyplot as plt \n",
    "\n",
    "\n",
    "sns.barplot(x=CX.columns, y=m_c.feature_importances_)\n",
    "plt.xticks(rotation=45)"
   ]
  },
  {
   "cell_type": "markdown",
   "metadata": {},
   "source": [
    "## 전체 CSI 점수 검증\n"
   ]
  },
  {
   "cell_type": "code",
   "execution_count": 30,
   "metadata": {},
   "outputs": [
    {
     "name": "stderr",
     "output_type": "stream",
     "text": [
      "/tmp/ipykernel_16074/503635885.py:2: SettingWithCopyWarning: \n",
      "A value is trying to be set on a copy of a slice from a DataFrame.\n",
      "Try using .loc[row_indexer,col_indexer] = value instead\n",
      "\n",
      "See the caveats in the documentation: https://pandas.pydata.org/pandas-docs/stable/user_guide/indexing.html#returning-a-view-versus-a-copy\n",
      "  ctest_df['cprev'] = CY_prev\n"
     ]
    }
   ],
   "source": [
    "test_df['prev'] = 0\n",
    "ctest_df['cprev'] = CY_prev\n",
    "rtest_df = pd.merge(rtest_df, test_df.loc[Y_prev,['rainfall_train.stn4contest','rainfall_train.ef_year','rainfall_train.ef_month','rainfall_train.ef_day','rainfall_train.ef_hour','prev']], how=\"left\" , on=['rainfall_train.stn4contest','rainfall_train.ef_year','rainfall_train.ef_month','rainfall_train.ef_day','rainfall_train.ef_hour'])\n",
    "rtest_df = pd.merge(rtest_df, ctest_df[['rainfall_train.stn4contest','rainfall_train.ef_year','rainfall_train.ef_month','rainfall_train.ef_day','rainfall_train.ef_hour','cprev']], how=\"left\" , on=['rainfall_train.stn4contest','rainfall_train.ef_year','rainfall_train.ef_month','rainfall_train.ef_day','rainfall_train.ef_hour'])\n",
    "rtest_df['prev'] = rtest_df['cprev'].combine_first(rtest_df['prev'])\n",
    "rtest_df['prev'] = rtest_df['prev'].fillna(1)\n"
   ]
  },
  {
   "cell_type": "code",
   "execution_count": 31,
   "metadata": {},
   "outputs": [
    {
     "name": "stdout",
     "output_type": "stream",
     "text": [
      "최종 CSI : 0.21264329857998773\n"
     ]
    }
   ],
   "source": [
    "print(f\"최종 CSI : {compute_csi(rtest_df['rainfall_train.class_interval'], rtest_df['prev'])}\")"
   ]
  },
  {
   "cell_type": "code",
   "execution_count": 32,
   "metadata": {},
   "outputs": [
    {
     "name": "stdout",
     "output_type": "stream",
     "text": [
      "['rainfall_train.ef_hour' 'rainfall_train.v01' 'rainfall_train.v02'\n",
      " 'rainfall_train.v03' 'rainfall_train.v04' 'rainfall_train.v05'\n",
      " 'rainfall_train.v06' 'rainfall_train.v07' 'rainfall_train.v08'\n",
      " 'rainfall_train.v09' 'mean_vmedian' 'mean_class']\n",
      "[0.06942132 0.06470551 0.0860957  0.07893956 0.08986504 0.110723\n",
      " 0.11794296 0.08909581 0.04169541 0.02019479 0.12744075 0.10388015]\n"
     ]
    },
    {
     "data": {
      "image/png": "[encoded data removed]",
      "text/plain": [
       "<Figure size 432x288 with 1 Axes>"
      ]
     },
     "metadata": {
      "needs_background": "light"
     },
     "output_type": "display_data"
    }
   ],
   "source": [
    "import matplotlib.pyplot as plt\n",
    "import seaborn as sns\n",
    "sns.barplot(x=CX_V.columns.values,y=m_c.feature_importances_)\n",
    "plt.xticks(rotation=30)\n",
    "print(CX_V.columns.values)\n",
    "print(m_c.feature_importances_)"
   ]
  },
  {
   "cell_type": "markdown",
   "metadata": {},
   "source": [
    "### 제출"
   ]
  },
  {
   "cell_type": "code",
   "execution_count": 34,
   "metadata": {},
   "outputs": [],
   "source": [
    "from util import preprocessing_simple_test\n",
    "\n",
    "TEST =preprocessing_simple_test()\n",
    "TEST['rainfall_test.ef_hour'] /= 24.0\n",
    "TEST['day'] = month_to_day(TEST[\"rainfall_test.ef_month\"]) + TEST[\"rainfall_test.ef_day\"]\n",
    "TEST['daysin'] = np.sin(np.pi*2*(TEST['day']/365.0))\n",
    "TEST['daycos'] = np.cos(np.pi*2*(TEST['day']/365.0))\n",
    "TEST.columns = TEST.columns.str.replace(\"rainfall_test\",\"rainfall_train\")\n",
    "TEST = make_mean(TEST)\n",
    "TEST = pd.merge(TEST,day2class,how=\"left\",on=['day'])\n",
    "X=TEST.drop(columns=['rainfall_train.stn4contest','rainfall_train.ef_year','rainfall_train.ef_month','rainfall_train.ef_day','v_max','v_median','day','rainfall_train.class_interval','rainfall_train.dh_x','daysin','daycos','mean_vmax'])\n",
    "b_pred = m_b.predict(X)\n",
    "CTEST = TEST[~b_pred].reset_index(drop=True)\n",
    "X= CTEST.drop(columns=['rainfall_train.stn4contest','rainfall_train.ef_year','rainfall_train.ef_month','rainfall_train.ef_day','v_max','v_median','day','rainfall_train.class_interval','rainfall_train.dh_x','daysin','daycos','mean_vmax','rainfall_train.v00'])\n",
    "\n",
    "CTEST['class'] = m_c.predict(X)\n",
    "TEST.loc[b_pred, 'rainfall_train.class_interval'] = 0\n",
    "tmp_df = pd.merge(TEST,CTEST[['rainfall_train.stn4contest','rainfall_train.ef_year','rainfall_train.ef_month','rainfall_train.ef_day','rainfall_train.ef_hour','class']],how='left',on=['rainfall_train.stn4contest','rainfall_train.ef_year','rainfall_train.ef_month','rainfall_train.ef_day','rainfall_train.ef_hour'])\n",
    "tmp_df['rainfall_train.class_interval'] = tmp_df['class'].combine_first(tmp_df['rainfall_train.class_interval'])\n",
    "tmp_df['rainfall_train.ef_hour'] *= 24\n",
    "tmp_df['rainfall_train.ef_hour'] = tmp_df['rainfall_train.ef_hour'].astype(int)\n",
    "tmp_df.drop(columns=['class'],inplace=True)\n",
    "tmp_df = tmp_df.rename(columns={'rainfall_train.class_interval':'class'})\n",
    "tmp_df.columns = tmp_df.columns.str.replace(\"rainfall_train\", \"rainfall_test\")"
   ]
  },
  {
   "cell_type": "code",
   "execution_count": 39,
   "metadata": {},
   "outputs": [],
   "source": [
    "RAW= pd.read_csv(\"./data/rainfall_test.csv\").drop(columns=[\"Unnamed: 0\"])\n",
    "ind = RAW['rainfall_test.class_interval'] == -999\n",
    "tt_df = pd.merge(RAW,tmp_df[['rainfall_test.stn4contest','rainfall_test.ef_year','rainfall_test.ef_month','rainfall_test.ef_day','rainfall_test.ef_hour','class']],how='left',on=['rainfall_test.stn4contest','rainfall_test.ef_year','rainfall_test.ef_month','rainfall_test.ef_day','rainfall_test.ef_hour'])\n",
    "RAW['rainfall_test.class_interval']=tt_df['class'].combine_first(tt_df['rainfall_test.class_interval'])\n",
    "RAW['rainfall_test.class_interval'] = RAW['rainfall_test.class_interval'].astype(int)\n",
    "RAW.loc[ind,'rainfall_test.class_interval'] = -999"
   ]
  },
  {
   "cell_type": "markdown",
   "metadata": {},
   "source": [
    "#### 제출파일 검증"
   ]
  },
  {
   "cell_type": "code",
   "execution_count": 40,
   "metadata": {},
   "outputs": [
    {
     "data": {
      "text/plain": [
       "rainfall_test.class_interval\n",
       " 0      103539\n",
       " 5       12081\n",
       " 6        1874\n",
       " 7        1829\n",
       " 4         939\n",
       " 2         911\n",
       " 3         337\n",
       " 9         200\n",
       " 8         160\n",
       "-999       130\n",
       "Name: count, dtype: int64"
      ]
     },
     "execution_count": 40,
     "metadata": {},
     "output_type": "execute_result"
    }
   ],
   "source": [
    "RAW['rainfall_test.class_interval'].value_counts()"
   ]
  },
  {
   "cell_type": "code",
   "execution_count": 41,
   "metadata": {},
   "outputs": [],
   "source": [
    "RAW.to_csv('240198.csv',index=False,encoding='euc-kr')"
   ]
  },
  {
   "cell_type": "code",
   "execution_count": null,
   "metadata": {},
   "outputs": [],
   "source": []
  }
 ],
 "metadata": {
  "kernelspec": {
   "display_name": "base",
   "language": "python",
   "name": "python3"
  },
  "language_info": {
   "codemirror_mode": {
    "name": "ipython",
    "version": 3
   },
   "file_extension": ".py",
   "mimetype": "text/x-python",
   "name": "python",
   "nbconvert_exporter": "python",
   "pygments_lexer": "ipython3",
   "version": "3.10.12"
  }
 },
 "nbformat": 4,
 "nbformat_minor": 2
}
