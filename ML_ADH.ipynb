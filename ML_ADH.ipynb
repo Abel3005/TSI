{
 "cells": [
  {
   "cell_type": "markdown",
   "metadata": {},
   "source": [
    "### 데이터 전처리\n"
   ]
  },
  {
   "cell_type": "code",
   "execution_count": 124,
   "metadata": {},
   "outputs": [],
   "source": [
    "from util import preprocessing_simple_train\n",
    "from util import month_to_day, make_mean\n",
    "import pandas as pd\n",
    "import numpy as np\n",
    "\n",
    "mean_df = preprocessing_simple_train(\"fast\")\n",
    "tmp = month_to_day(mean_df['rainfall_train.ef_month']) + mean_df['rainfall_train.ef_day'] \n",
    "\n",
    "mean_df['daysin'] = np.sin(tmp)\n",
    "mean_df['daycos'] = np.cos(tmp)\n",
    "mean_df['day'] = tmp\n",
    "mean_df = make_mean(mean_df,15)\n",
    "raw_df = pd.read_csv('./data/rainfall_train.csv').drop(columns=['Unnamed: 0'])\n",
    "raw_df = raw_df[raw_df['rainfall_train.class_interval'] != -999]\n",
    "for i in range(1,9):\n",
    "    raw_df[f'rainfall_train.v0{i}'] -= raw_df[f'rainfall_train.v0{i+1}']\n",
    "    raw_df[f'rainfall_train.v0{i}'] /= 100.0\n",
    "raw_df[f'rainfall_train.v09'] /= 100.0\n",
    "\n",
    "r_df = raw_df[['rainfall_train.stn4contest','rainfall_train.ef_year','rainfall_train.ef_month','rainfall_train.ef_day','rainfall_train.ef_hour','rainfall_train.class_interval']]\n"
   ]
  },
  {
   "cell_type": "markdown",
   "metadata": {},
   "source": [
    "### 테스트/ 검증 데이터 결정\n",
    "####  테스트데이터"
   ]
  },
  {
   "cell_type": "code",
   "execution_count": 203,
   "metadata": {},
   "outputs": [],
   "source": [
    "from util import make_day2class, make_day2freqclass\n",
    "import pandas as pd \n",
    "\n",
    "_year = \"A\"\n",
    "\n",
    "train_df = mean_df[mean_df['rainfall_train.ef_year'] != _year].reset_index(drop=True)\n",
    "test_df = mean_df[mean_df['rainfall_train.ef_year'] == _year].reset_index(drop=True)\n",
    "rtrain_df = r_df[r_df['rainfall_train.ef_year'] != _year].reset_index(drop=True)\n",
    "rtest_df = r_df[r_df['rainfall_train.ef_year'] == _year].reset_index(drop=True)\n",
    "raw_train_df =  raw_df[raw_df['rainfall_train.ef_year'] != _year].reset_index(drop=True)\n",
    "raw_test_df =  raw_df[raw_df['rainfall_train.ef_year'] == _year].reset_index(drop=True)\n",
    "\n",
    "\n",
    "\n",
    "day2class = make_day2class(train_df)\n",
    "day2freqclass = make_day2freqclass(train_df)\n",
    "\n",
    "day2class=day2class.rename(columns={\"rainfall_train.class_interval\":\"mean_class\"})\n",
    "day2freqclass=day2freqclass.rename(columns={\"rainfall_train.class_interval\":\"freq_class\"})\n",
    "train_df = pd.merge(train_df,day2class,how=\"left\",on=['day']).copy()\n",
    "train_df = pd.merge(train_df,day2freqclass,how=\"left\",on=['day']).copy()\n",
    "train_df['freq_class'] = train_df['freq_class'].fillna(0)\n",
    "test_df = pd.merge(test_df,day2class,how=\"left\",on=['day']).copy()\n",
    "test_df = pd.merge(test_df,day2freqclass,how=\"left\",on=['day']).copy()\n",
    "test_df['freq_class'] = test_df['freq_class'].fillna(0)\n"
   ]
  },
  {
   "cell_type": "markdown",
   "metadata": {},
   "source": [
    "#### 제출용 데이터"
   ]
  },
  {
   "cell_type": "code",
   "execution_count": 117,
   "metadata": {},
   "outputs": [],
   "source": [
    "from util import make_day2class\n",
    "import pandas as pd \n",
    "day2class = make_day2class(mean_df)\n",
    "day2class=day2class.rename(columns={\"rainfall_train.class_interval\":\"mean_class\"})\n",
    "day2freqclass = make_day2freqclass(train_df)\n",
    "day2freqclass=day2freqclass.rename(columns={\"rainfall_train.class_interval\":\"freq_class\"})\n",
    "train_df = pd.merge(mean_df,day2class,how=\"left\",on=['day']).copy()\n",
    "train_df = pd.merge(train_df,day2freqclass,how=\"left\",on=['day']).copy()\n",
    "raw_train_df =  raw_df\n",
    "\n"
   ]
  },
  {
   "cell_type": "markdown",
   "metadata": {},
   "source": [
    "### 무강수/강수 데이터 만들기"
   ]
  },
  {
   "cell_type": "code",
   "execution_count": 204,
   "metadata": {},
   "outputs": [],
   "source": [
    "X = train_df.drop(columns=[\"rainfall_train.stn4contest\",\"rainfall_train.ef_year\",\"rainfall_train.ef_month\",\"rainfall_train.ef_day\",\"rainfall_train.vv\",\"rainfall_train.class_interval\",'v_max','v_median','day','freq_class','rainfall_train.dh_x'])\n",
    "X['rainfall_train.ef_hour'] /= 24.0\n",
    "Y = train_df[\"rainfall_train.class_interval\"]\n",
    "X_V = test_df.drop(columns=[\"rainfall_train.stn4contest\",\"rainfall_train.ef_year\",\"rainfall_train.ef_month\",\"rainfall_train.ef_day\",\"rainfall_train.vv\",\"rainfall_train.class_interval\",'v_max','v_median','day','freq_class','rainfall_train.dh_x'])\n",
    "X_V['rainfall_train.ef_hour'] /= 24.0\n",
    "Y_V = test_df[\"rainfall_train.class_interval\"]"
   ]
  },
  {
   "cell_type": "markdown",
   "metadata": {},
   "source": [
    "## 강수/무강수 분류"
   ]
  },
  {
   "cell_type": "code",
   "execution_count": 205,
   "metadata": {},
   "outputs": [
    {
     "name": "stdout",
     "output_type": "stream",
     "text": [
      "무강수/강수 분류 accuracy_score: 0.906523591849384\n"
     ]
    }
   ],
   "source": [
    "from sklearn.ensemble import RandomForestClassifier\n",
    "from sklearn.ensemble import ExtraTreesClassifier\n",
    "from sklearn.metrics import accuracy_score\n",
    "m_b = ExtraTreesClassifier(n_estimators= 175, criterion = 'log_loss', max_depth = 12,max_leaf_nodes = 45, random_state=42) \n",
    "m_b.fit(X,Y==0)\n",
    "Y_prev = m_b.predict(X_V)\n",
    "print(f\"무강수/강수 분류 accuracy_score: {accuracy_score(Y_V==0,Y_prev)}\")"
   ]
  },
  {
   "cell_type": "markdown",
   "metadata": {},
   "source": [
    "## 강수 계급  데이터"
   ]
  },
  {
   "cell_type": "code",
   "execution_count": 206,
   "metadata": {},
   "outputs": [],
   "source": [
    "ctrain_df = train_df[train_df['rainfall_train.class_interval'] != 0]\n",
    "ctest_df = test_df[test_df['rainfall_train.class_interval'] != 0]\n",
    "\n",
    "raw_test_df = raw_test_df[raw_test_df['rainfall_train.class_interval'] != 0]\n",
    "raw_test_df = raw_test_df[['rainfall_train.dh','rainfall_train.stn4contest','rainfall_train.ef_year', 'rainfall_train.ef_month','rainfall_train.ef_day','rainfall_train.ef_hour','rainfall_train.class_interval','rainfall_train.v01',\n",
    "       'rainfall_train.v02', 'rainfall_train.v03', 'rainfall_train.v04',\n",
    "       'rainfall_train.v05', 'rainfall_train.v06', 'rainfall_train.v07',\n",
    "       'rainfall_train.v08', 'rainfall_train.v09']]\n",
    "raw_test_df = pd.merge(raw_test_df,ctest_df.drop(columns=['rainfall_train.class_interval','rainfall_train.dh_x','rainfall_train.v01',\n",
    "       'rainfall_train.v02', 'rainfall_train.v03', 'rainfall_train.v04',\n",
    "       'rainfall_train.v05', 'rainfall_train.v06', 'rainfall_train.v07',\n",
    "       'rainfall_train.v08', 'rainfall_train.v09']),on=['rainfall_train.stn4contest','rainfall_train.ef_year', 'rainfall_train.ef_month',\n",
    "       'rainfall_train.ef_day','rainfall_train.ef_hour'])\n",
    "\n",
    "CX = ctrain_df.drop(columns=[\"rainfall_train.stn4contest\",\"rainfall_train.ef_year\",\"rainfall_train.ef_month\",\"rainfall_train.ef_day\",\"rainfall_train.vv\",\"rainfall_train.class_interval\",'v_max','day','daysin','daycos','mean_vmax','v_median','rainfall_train.v00','freq_class','rainfall_train.dh_x'])\n",
    "CX['rainfall_train.ef_hour'] /= 24.0\n",
    "CY = ctrain_df[\"rainfall_train.class_interval\"]\n",
    "CX_V = ctest_df.drop(columns=[\"rainfall_train.stn4contest\",\"rainfall_train.ef_year\",\"rainfall_train.ef_month\",\"rainfall_train.ef_day\",\"rainfall_train.vv\",\"rainfall_train.class_interval\",'v_max','day','daysin','daycos','mean_vmax','v_median','rainfall_train.v00','freq_class','rainfall_train.dh_x'])\n",
    "CX_V['rainfall_train.ef_hour'] /= 24.0\n",
    "CY_V = ctest_df[\"rainfall_train.class_interval\"]\n",
    "\n",
    "\n",
    "RX_V = raw_test_df.drop(columns=[\"rainfall_train.stn4contest\",\"rainfall_train.ef_year\",\"rainfall_train.ef_month\",\"rainfall_train.ef_day\",\"rainfall_train.vv\",\"rainfall_train.class_interval\",'v_max','day','daysin','daycos','mean_vmax','v_median','rainfall_train.v00','freq_class','rainfall_train.dh'])\n",
    "RX_V['rainfall_train.ef_hour'] /= 24.0\n",
    "RY_V = raw_test_df[\"rainfall_train.class_interval\"]"
   ]
  },
  {
   "cell_type": "code",
   "execution_count": 207,
   "metadata": {},
   "outputs": [
    {
     "name": "stdout",
     "output_type": "stream",
     "text": [
      "train_DH 최소 : 0.6008700380641653\n",
      "valid_DH 최소 : 0.2546436285097192\n"
     ]
    }
   ],
   "source": [
    "from sklearn.ensemble import RandomForestClassifier, ExtraTreesClassifier\n",
    "from util import compute_csi\n",
    "m_c = ExtraTreesClassifier(n_estimators=150,random_state=42,max_depth=11,criterion='gini')\n",
    "m_c.fit(CX,CY)\n",
    "CY_prev =m_c.predict(CX_V)\n",
    "RY_prev =m_c.predict(RX_V)\n",
    "print(f\"train_DH 최소 : {compute_csi(CY,m_c.predict(CX))}\")\n",
    "print(f\"valid_DH 최소 : {compute_csi(CY_V,CY_prev)}\")"
   ]
  },
  {
   "cell_type": "code",
   "execution_count": 209,
   "metadata": {},
   "outputs": [
    {
     "name": "stdout",
     "output_type": "stream",
     "text": [
      "DH 최소 : 0.2546436285097192\n"
     ]
    }
   ],
   "source": [
    "raw_test_df['cprev'] = RY_prev\n",
    "ctest_df = pd.merge(ctest_df,raw_test_df.groupby(by=['rainfall_train.stn4contest', 'rainfall_train.ef_year',\n",
    "       'rainfall_train.ef_month', 'rainfall_train.ef_day',\n",
    "       'rainfall_train.ef_hour'])['cprev'].apply(lambda x: np.argmax(np.bincount(np.array(x)))).reset_index(),how='left',on=['rainfall_train.stn4contest', 'rainfall_train.ef_year',\n",
    "       'rainfall_train.ef_month', 'rainfall_train.ef_day','rainfall_train.ef_hour'])\n",
    "CY_prev2 = np.where(ctest_df['rainfall_train.dh_x'] >100,ctest_df['cprev'],CY_prev)\n",
    "ctest_df= ctest_df.drop(columns=['cprev'])\n",
    "print(f\"DH 최소 : {compute_csi(CY_V,CY_prev2)}\")"
   ]
  },
  {
   "cell_type": "markdown",
   "metadata": {},
   "source": [
    "## 전체 CSI 점수 검증\n"
   ]
  },
  {
   "cell_type": "code",
   "execution_count": 107,
   "metadata": {},
   "outputs": [
    {
     "name": "stderr",
     "output_type": "stream",
     "text": [
      "/tmp/ipykernel_9141/503635885.py:2: SettingWithCopyWarning: \n",
      "A value is trying to be set on a copy of a slice from a DataFrame.\n",
      "Try using .loc[row_indexer,col_indexer] = value instead\n",
      "\n",
      "See the caveats in the documentation: https://pandas.pydata.org/pandas-docs/stable/user_guide/indexing.html#returning-a-view-versus-a-copy\n",
      "  ctest_df['cprev'] = CY_prev\n"
     ]
    }
   ],
   "source": [
    "test_df['prev'] = 0\n",
    "ctest_df['cprev'] = CY_prev\n",
    "rtest_df = pd.merge(rtest_df, test_df.loc[Y_prev,['rainfall_train.stn4contest','rainfall_train.ef_year','rainfall_train.ef_month','rainfall_train.ef_day','rainfall_train.ef_hour','prev']], how=\"left\" , on=['rainfall_train.stn4contest','rainfall_train.ef_year','rainfall_train.ef_month','rainfall_train.ef_day','rainfall_train.ef_hour'])\n",
    "rtest_df = pd.merge(rtest_df, ctest_df[['rainfall_train.stn4contest','rainfall_train.ef_year','rainfall_train.ef_month','rainfall_train.ef_day','rainfall_train.ef_hour','cprev']], how=\"left\" , on=['rainfall_train.stn4contest','rainfall_train.ef_year','rainfall_train.ef_month','rainfall_train.ef_day','rainfall_train.ef_hour'])\n",
    "rtest_df['prev'] = rtest_df['cprev'].combine_first(rtest_df['prev'])\n",
    "rtest_df['prev'] = rtest_df['prev'].fillna(1)\n"
   ]
  },
  {
   "cell_type": "code",
   "execution_count": 108,
   "metadata": {},
   "outputs": [
    {
     "name": "stdout",
     "output_type": "stream",
     "text": [
      "최종 CSI : 0.22045571307571613\n"
     ]
    }
   ],
   "source": [
    "print(f\"최종 CSI : {compute_csi(rtest_df['rainfall_train.class_interval'], rtest_df['prev'])}\")"
   ]
  },
  {
   "cell_type": "code",
   "execution_count": 24,
   "metadata": {},
   "outputs": [
    {
     "name": "stdout",
     "output_type": "stream",
     "text": [
      "['rainfall_train.ef_hour' 'rainfall_train.v01' 'rainfall_train.v02'\n",
      " 'rainfall_train.v03' 'rainfall_train.v04' 'rainfall_train.v05'\n",
      " 'rainfall_train.v06' 'rainfall_train.v07' 'rainfall_train.v08'\n",
      " 'rainfall_train.v09' 'mean_vmedian' 'mean_class']\n",
      "[0.06537141 0.06255466 0.08733331 0.07838484 0.08519994 0.11026147\n",
      " 0.12026755 0.09730283 0.04808502 0.024892   0.11968886 0.10065813]\n"
     ]
    },
    {
     "data": {
      "image/png": "[encoded data removed]",
      "text/plain": [
       "<Figure size 640x480 with 1 Axes>"
      ]
     },
     "metadata": {},
     "output_type": "display_data"
    }
   ],
   "source": [
    "import matplotlib.pyplot as plt\n",
    "import seaborn as sns\n",
    "sns.barplot(x=CX_V.columns.values,y=m_c.feature_importances_)\n",
    "plt.xticks(rotation=30)\n",
    "print(CX_V.columns.values)\n",
    "print(m_c.feature_importances_)"
   ]
  },
  {
   "cell_type": "markdown",
   "metadata": {},
   "source": [
    "### 제출"
   ]
  },
  {
   "cell_type": "code",
   "execution_count": 370,
   "metadata": {},
   "outputs": [],
   "source": [
    "from util import preprocessing_simple_test\n",
    "\n",
    "RAW= pd.read_csv(\"./data/rainfall_test.csv\").drop(columns=[\"Unnamed: 0\"])\n",
    "TEST =preprocessing_simple_test()\n",
    "TEST['rainfall_test.ef_hour'] /= 24.0\n",
    "TEST['day'] = month_to_day(TEST[\"rainfall_test.ef_month\"]) + TEST[\"rainfall_test.ef_day\"]\n",
    "TEST['daysin'] = np.sin(np.pi*2*(TEST['day']/365.0))\n",
    "TEST['daycos'] = np.cos(np.pi*2*(TEST['day']/365.0))\n",
    "TEST.columns = TEST.columns.str.replace(\"rainfall_test\",\"rainfall_train\")\n",
    "TEST = make_mean(TEST)\n",
    "TEST = pd.merge(TEST,day2class,how=\"left\",on=['day'])\n",
    "X=TEST.drop(columns=['rainfall_train.stn4contest','rainfall_train.ef_year','rainfall_train.ef_month','rainfall_train.ef_day','v_max','v_median','day','rainfall_train.class_interval','rainfall_train.dh_x'])\n",
    "b_pred = m_b.predict(X)\n",
    "CTEST = TEST[~b_pred].reset_index(drop=True)\n",
    "CTEST.columns = CTEST.columns.str.replace(\"rainfall_train\",\"rainfall_test\")\n",
    "CTEST['rainfall_test.ef_hour'] *= 24.0\n"
   ]
  },
  {
   "cell_type": "code",
   "execution_count": 371,
   "metadata": {},
   "outputs": [],
   "source": [
    "CTEST = pd.merge(RAW, CTEST[['rainfall_test.stn4contest','rainfall_test.ef_year', 'rainfall_test.ef_month',\n",
    "       'rainfall_test.ef_day', 'rainfall_test.ef_hour','mean_vmedian','mean_class']], how='inner',on=['rainfall_test.stn4contest','rainfall_test.ef_year', 'rainfall_test.ef_month',\n",
    "       'rainfall_test.ef_day', 'rainfall_test.ef_hour'])\n",
    "CTEST['rainfall_test.ef_hour'] /= 24.0\n",
    "CTEST.columns = CTEST.columns.str.replace(\"rainfall_test\",\"rainfall_train\")\n",
    "X = CTEST.drop(columns=['rainfall_train.fc_year', 'rainfall_train.fc_month',\n",
    "       'rainfall_train.fc_day', 'rainfall_train.fc_hour', 'rainfall_train.dh','rainfall_train.class_interval','rainfall_train.stn4contest','rainfall_train.ef_year','rainfall_train.ef_month','rainfall_train.ef_day'])\n",
    "CTEST['class'] = m_c.predict(X)"
   ]
  },
  {
   "cell_type": "code",
   "execution_count": 372,
   "metadata": {},
   "outputs": [],
   "source": [
    "CTEST = CTEST.groupby(by=['rainfall_train.stn4contest','rainfall_train.ef_year', 'rainfall_train.ef_month',\n",
    "       'rainfall_train.ef_day', 'rainfall_train.ef_hour'])['class'].apply(lambda x: np.argmax(np.bincount(np.array(x)))).reset_index()"
   ]
  },
  {
   "cell_type": "code",
   "execution_count": 373,
   "metadata": {},
   "outputs": [],
   "source": [
    "TEST.loc[b_pred, 'rainfall_train.class_interval'] = 0\n",
    "tmp_df = pd.merge(TEST,CTEST[['rainfall_train.stn4contest','rainfall_train.ef_year','rainfall_train.ef_month','rainfall_train.ef_day','rainfall_train.ef_hour','class']],how='left',on=['rainfall_train.stn4contest','rainfall_train.ef_year','rainfall_train.ef_month','rainfall_train.ef_day','rainfall_train.ef_hour'])\n",
    "tmp_df['rainfall_train.class_interval'] = tmp_df['class'].combine_first(tmp_df['rainfall_train.class_interval'])\n",
    "tmp_df['rainfall_train.ef_hour'] *= 24\n",
    "tmp_df['rainfall_train.ef_hour'] = tmp_df['rainfall_train.ef_hour'].astype(int)\n",
    "tmp_df.drop(columns=['class'],inplace=True)\n",
    "tmp_df = tmp_df.rename(columns={'rainfall_train.class_interval':'class'})\n",
    "tmp_df.columns = tmp_df.columns.str.replace(\"rainfall_train\", \"rainfall_test\")"
   ]
  },
  {
   "cell_type": "code",
   "execution_count": 374,
   "metadata": {},
   "outputs": [],
   "source": [
    "ind = RAW['rainfall_test.class_interval'] == -999\n",
    "tt_df = pd.merge(RAW,tmp_df[['rainfall_test.stn4contest','rainfall_test.ef_year','rainfall_test.ef_month','rainfall_test.ef_day','rainfall_test.ef_hour','class']],how='left',on=['rainfall_test.stn4contest','rainfall_test.ef_year','rainfall_test.ef_month','rainfall_test.ef_day','rainfall_test.ef_hour'])\n",
    "RAW['rainfall_test.class_interval']=tt_df['class'].combine_first(tt_df['rainfall_test.class_interval'])\n",
    "RAW['rainfall_test.class_interval'] = RAW['rainfall_test.class_interval'].astype(int)\n",
    "RAW.loc[ind,'rainfall_test.class_interval'] = -999"
   ]
  },
  {
   "cell_type": "markdown",
   "metadata": {},
   "source": [
    "#### 제출파일 검증"
   ]
  },
  {
   "cell_type": "code",
   "execution_count": 375,
   "metadata": {},
   "outputs": [
    {
     "data": {
      "text/plain": [
       "rainfall_test.class_interval\n",
       " 0      103599\n",
       " 5       10020\n",
       " 2        4922\n",
       " 6        2166\n",
       " 4         642\n",
       " 3         402\n",
       "-999       130\n",
       " 1          71\n",
       " 7          48\n",
       "Name: count, dtype: int64"
      ]
     },
     "execution_count": 375,
     "metadata": {},
     "output_type": "execute_result"
    }
   ],
   "source": [
    "RAW['rainfall_test.class_interval'].value_counts()"
   ]
  },
  {
   "cell_type": "code",
   "execution_count": 376,
   "metadata": {},
   "outputs": [],
   "source": [
    "RAW.to_csv('./data/240198.csv',index=False,encoding='euc-kr')"
   ]
  },
  {
   "cell_type": "code",
   "execution_count": null,
   "metadata": {},
   "outputs": [],
   "source": []
  }
 ],
 "metadata": {
  "kernelspec": {
   "display_name": "base",
   "language": "python",
   "name": "python3"
  },
  "language_info": {
   "codemirror_mode": {
    "name": "ipython",
    "version": 3
   },
   "file_extension": ".py",
   "mimetype": "text/x-python",
   "name": "python",
   "nbconvert_exporter": "python",
   "pygments_lexer": "ipython3",
   "version": "3.10.13"
  }
 },
 "nbformat": 4,
 "nbformat_minor": 2
}
