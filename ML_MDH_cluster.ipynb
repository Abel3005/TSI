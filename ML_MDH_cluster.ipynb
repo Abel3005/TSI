{
 "cells": [
  {
   "cell_type": "markdown",
   "metadata": {},
   "source": [
    "### 데이터 전처리\n"
   ]
  },
  {
   "cell_type": "code",
   "execution_count": 3,
   "metadata": {},
   "outputs": [],
   "source": [
    "from util import preprocessing_simple_train\n",
    "from util import month_to_day, make_mean\n",
    "import pandas as pd\n",
    "import numpy as np\n",
    "\n",
    "mean_df = preprocessing_simple_train(\"fast\")\n",
    "tmp = month_to_day(mean_df['rainfall_train.ef_month']) + mean_df['rainfall_train.ef_day'] \n",
    "\n",
    "mean_df['daysin'] = np.sin(tmp)\n",
    "mean_df['daycos'] = np.cos(tmp)\n",
    "mean_df['day'] = tmp\n",
    "mean_df = make_mean(mean_df,30)\n",
    "r_df = pd.read_csv('./data/rainfall_train.csv')[['rainfall_train.stn4contest','rainfall_train.ef_year','rainfall_train.ef_month','rainfall_train.ef_day','rainfall_train.ef_hour','rainfall_train.class_interval']]\n",
    "r_df = r_df[r_df['rainfall_train.class_interval'] != -999]\n"
   ]
  },
  {
   "cell_type": "code",
   "execution_count": 4,
   "metadata": {},
   "outputs": [],
   "source": [
    "with open(\"./data/cluster.json\",'r') as f:\n",
    "    _dict= eval(f.read())\n",
    "mean_df['cluster'] = 0\n",
    "for i in range(4):\n",
    "        mean_df.loc[mean_df['rainfall_train.stn4contest'].isin(np.array(list(map(lambda x: f\"STN{format(x,'03')}\",_dict[str(i)])))),'cluster'] = i"
   ]
  },
  {
   "cell_type": "markdown",
   "metadata": {},
   "source": [
    "### 테스트/ 검증 데이터 결정\n",
    "####  테스트데이터"
   ]
  },
  {
   "cell_type": "code",
   "execution_count": 5,
   "metadata": {},
   "outputs": [
    {
     "name": "stderr",
     "output_type": "stream",
     "text": [
      "/tmp/ipykernel_3633/3917134522.py:32: UserWarning: Boolean Series key will be reindexed to match DataFrame index.\n",
      "  day2class = make_day2class(train_df[mean_df['rainfall_train.stn4contest'].isin(np.array(list(map(lambda x: f\"STN{format(x,'03')}\",_dict[str(i)]))))])\n",
      "/tmp/ipykernel_3633/3917134522.py:32: UserWarning: Boolean Series key will be reindexed to match DataFrame index.\n",
      "  day2class = make_day2class(train_df[mean_df['rainfall_train.stn4contest'].isin(np.array(list(map(lambda x: f\"STN{format(x,'03')}\",_dict[str(i)]))))])\n",
      "/tmp/ipykernel_3633/3917134522.py:32: UserWarning: Boolean Series key will be reindexed to match DataFrame index.\n",
      "  day2class = make_day2class(train_df[mean_df['rainfall_train.stn4contest'].isin(np.array(list(map(lambda x: f\"STN{format(x,'03')}\",_dict[str(i)]))))])\n",
      "/tmp/ipykernel_3633/3917134522.py:32: UserWarning: Boolean Series key will be reindexed to match DataFrame index.\n",
      "  day2class = make_day2class(train_df[mean_df['rainfall_train.stn4contest'].isin(np.array(list(map(lambda x: f\"STN{format(x,'03')}\",_dict[str(i)]))))])\n"
     ]
    }
   ],
   "source": [
    "from util import make_day2class, make_day2freqclass\n",
    "import pandas as pd \n",
    "from sklearn.preprocessing import StandardScaler\n",
    "\n",
    "_year = \"C\"\n",
    "\n",
    "train_df = mean_df[mean_df['rainfall_train.ef_year'] != _year].reset_index(drop=True).copy()\n",
    "test_df = mean_df[mean_df['rainfall_train.ef_year'] == _year].reset_index(drop=True).copy()\n",
    "rtrain_df = r_df[r_df['rainfall_train.ef_year'] != _year].reset_index(drop=True).copy()\n",
    "rtest_df = r_df[r_df['rainfall_train.ef_year'] == _year].reset_index(drop=True).copy()\n",
    "\n",
    "cluster_list_train = []\n",
    "\n",
    "\n",
    "day2classall = make_day2class(train_df)\n",
    "\n",
    "day2freqclass = make_day2freqclass(train_df)\n",
    "day2classall=day2classall.rename(columns={\"rainfall_train.class_interval\":\"mean_class\"})\n",
    "day2freqclass=day2freqclass.rename(columns={\"rainfall_train.class_interval\":\"freq_class\"})\n",
    "\n",
    "train_df = pd.merge(train_df,day2classall,how=\"left\",on=['day']).copy()\n",
    "train_df = pd.merge(train_df,day2freqclass,how=\"left\",on=['day']).copy()\n",
    "train_df['freq_class'] = train_df['freq_class'].fillna(0)\n",
    "\n",
    "test_df = pd.merge(test_df,day2classall,how=\"left\",on=['day']).copy()\n",
    "test_df = pd.merge(test_df,day2freqclass,how=\"left\",on=['day']).copy()\n",
    "test_df['freq_class'] = test_df['freq_class'].fillna(0)\n",
    "train_df['cluster_class'] = 0\n",
    "test_df['cluster_class'] = 0\n",
    "\n",
    "for i in range(4):\n",
    "    day2class = make_day2class(train_df[mean_df['rainfall_train.stn4contest'].isin(np.array(list(map(lambda x: f\"STN{format(x,'03')}\",_dict[str(i)]))))])\n",
    "    day2class=day2class.rename(columns={\"rainfall_train.class_interval\":\"mean_class_tmp\"})\n",
    "    day2class['cluster'] = i\n",
    "    train_df = pd.merge(train_df,day2class,how='left',on=['cluster','day'])\n",
    "    train_df['cluster_class'] = train_df['mean_class_tmp'].combine_first(train_df['cluster_class'])\n",
    "    train_df = train_df.drop(columns=['mean_class_tmp'])\n",
    "    test_df = pd.merge(test_df,day2class,how='left',on=['cluster','day'])\n",
    "    test_df['cluster_class'] = test_df['mean_class_tmp'].combine_first(test_df['cluster_class'])\n",
    "    test_df = test_df.drop(columns=['mean_class_tmp'])\n",
    "train_df['cluster_class'] = StandardScaler().fit_transform(train_df[['cluster_class']])\n",
    "test_df['cluster_class'] = StandardScaler().fit_transform(test_df[['cluster_class']])\n"
   ]
  },
  {
   "cell_type": "markdown",
   "metadata": {},
   "source": [
    "#### 제출용 데이터"
   ]
  },
  {
   "cell_type": "code",
   "execution_count": 37,
   "metadata": {},
   "outputs": [],
   "source": [
    "from util import make_day2class\n",
    "import pandas as pd \n",
    "cluster_list_train = []\n",
    "train_df = mean_df.copy()\n",
    "\n",
    "\n",
    "day2classall = make_day2class(train_df)\n",
    "day2classall=day2classall.rename(columns={\"rainfall_train.class_interval\":\"mean_class\"})\n",
    "train_df = pd.merge(train_df,day2classall,how=\"left\",on=['day']).copy()\n",
    "day2freqclass = make_day2freqclass(train_df)\n",
    "day2freqclass=day2freqclass.rename(columns={\"rainfall_train.class_interval\":\"freq_class\"})\n",
    "train_df = pd.merge(train_df,day2freqclass,how=\"left\",on=['day']).copy()\n",
    "day2class_list = []\n",
    "\n",
    "train_df['cluster_class'] = 0\n",
    "for i in range(4):\n",
    "    day2class = make_day2class(train_df[mean_df['rainfall_train.stn4contest'].isin(np.array(list(map(lambda x: f\"STN{format(x,'03')}\",_dict[str(i)]))))])\n",
    "    day2class=day2class.rename(columns={\"rainfall_train.class_interval\":\"mean_class_tmp\"})\n",
    "    day2class['cluster'] = i\n",
    "    day2class_list.append(day2class)\n",
    "    train_df = pd.merge(train_df,day2class,how='left',on=['cluster','day'])\n",
    "    train_df['cluster_class'] = train_df['mean_class_tmp'].combine_first(train_df['cluster_class'])\n",
    "    train_df = train_df.drop(columns=['mean_class_tmp'])\n",
    "train_df['cluster_class'] = StandardScaler().fit_transform(train_df[['cluster_class']])\n"
   ]
  },
  {
   "cell_type": "markdown",
   "metadata": {},
   "source": [
    "### 무강수/강수 데이터 만들기"
   ]
  },
  {
   "cell_type": "code",
   "execution_count": 6,
   "metadata": {},
   "outputs": [],
   "source": [
    "X = train_df.drop(columns=[\"rainfall_train.stn4contest\",\"rainfall_train.ef_year\",\"rainfall_train.ef_month\",\"rainfall_train.ef_day\",\"rainfall_train.vv\",\"rainfall_train.class_interval\",'v_max','v_median','day','freq_class','rainfall_train.dh_x','cluster_class','cluster'])\n",
    "X['rainfall_train.ef_hour'] /= 24.0\n",
    "Y = train_df[\"rainfall_train.class_interval\"]\n",
    "X_V = test_df.drop(columns=[\"rainfall_train.stn4contest\",\"rainfall_train.ef_year\",\"rainfall_train.ef_month\",\"rainfall_train.ef_day\",\"rainfall_train.vv\",\"rainfall_train.class_interval\",'v_max','v_median','day','freq_class','rainfall_train.dh_x','cluster_class','cluster'])\n",
    "X_V['rainfall_train.ef_hour'] /= 24.0\n",
    "Y_V = test_df[\"rainfall_train.class_interval\"]"
   ]
  },
  {
   "cell_type": "markdown",
   "metadata": {},
   "source": [
    "## 강수/무강수 분류"
   ]
  },
  {
   "cell_type": "code",
   "execution_count": 7,
   "metadata": {},
   "outputs": [
    {
     "name": "stdout",
     "output_type": "stream",
     "text": [
      "무강수/강수 분류 accuracy_score: 0.9233960069780965\n"
     ]
    }
   ],
   "source": [
    "from sklearn.ensemble import RandomForestClassifier\n",
    "from sklearn.ensemble import ExtraTreesClassifier\n",
    "from sklearn.metrics import accuracy_score\n",
    "m_b = ExtraTreesClassifier(n_estimators= 175, criterion = 'log_loss', max_depth = 12,max_leaf_nodes = 45, random_state=42) \n",
    "m_b.fit(X,Y==0)\n",
    "Y_prev = m_b.predict(X_V)\n",
    "print(f\"무강수/강수 분류 accuracy_score: {accuracy_score(Y_V==0,Y_prev)}\")"
   ]
  },
  {
   "cell_type": "markdown",
   "metadata": {},
   "source": [
    "## 강수 무강수 데이터"
   ]
  },
  {
   "cell_type": "code",
   "execution_count": 8,
   "metadata": {},
   "outputs": [],
   "source": [
    "ctrain_df = train_df[train_df['rainfall_train.class_interval'] != 0]\n",
    "ctest_df = test_df[test_df['rainfall_train.class_interval'] != 0]\n",
    "\n",
    "\n",
    "CX = ctrain_df.drop(columns=[\"rainfall_train.stn4contest\",\"rainfall_train.ef_year\",\"rainfall_train.ef_month\",\"rainfall_train.ef_day\",\"rainfall_train.vv\",\"rainfall_train.class_interval\",'v_max','day','daysin','daycos','mean_vmax','v_median','rainfall_train.v00','freq_class','rainfall_train.dh_x','cluster'])\n",
    "CX['rainfall_train.ef_hour'] /= 24.0\n",
    "CY = ctrain_df[\"rainfall_train.class_interval\"]\n",
    "CX_V = ctest_df.drop(columns=[\"rainfall_train.stn4contest\",\"rainfall_train.ef_year\",\"rainfall_train.ef_month\",\"rainfall_train.ef_day\",\"rainfall_train.vv\",\"rainfall_train.class_interval\",'v_max','day','daysin','daycos','mean_vmax','v_median','rainfall_train.v00','freq_class','rainfall_train.dh_x','cluster'])\n",
    "CX_V['rainfall_train.ef_hour'] /= 24.0\n",
    "CY_V = ctest_df[\"rainfall_train.class_interval\"]"
   ]
  },
  {
   "cell_type": "code",
   "execution_count": 9,
   "metadata": {},
   "outputs": [
    {
     "data": {
      "text/plain": [
       "Index(['rainfall_train.ef_hour', 'rainfall_train.v01', 'rainfall_train.v02',\n",
       "       'rainfall_train.v03', 'rainfall_train.v04', 'rainfall_train.v05',\n",
       "       'rainfall_train.v06', 'rainfall_train.v07', 'rainfall_train.v08',\n",
       "       'rainfall_train.v09', 'mean_vmedian', 'mean_class', 'cluster_class'],\n",
       "      dtype='object')"
      ]
     },
     "execution_count": 9,
     "metadata": {},
     "output_type": "execute_result"
    }
   ],
   "source": [
    "CX.columns"
   ]
  },
  {
   "cell_type": "code",
   "execution_count": 11,
   "metadata": {},
   "outputs": [
    {
     "data": {
      "text/plain": [
       "<Axes: >"
      ]
     },
     "execution_count": 11,
     "metadata": {},
     "output_type": "execute_result"
    },
    {
     "data": {
      "image/png": "[encoded data removed]",
      "text/plain": [
       "<Figure size 640x480 with 1 Axes>"
      ]
     },
     "metadata": {},
     "output_type": "display_data"
    }
   ],
   "source": [
    "from sklearn.ensemble import RandomForestClassifier, ExtraTreesClassifier\n",
    "from util import compute_csi\n",
    "import matplotlib.pyplot as plt\n",
    "import seaborn as sns\n",
    "\n",
    "train= []\n",
    "valid= []\n",
    "for i in range(1,20):\n",
    "    m_c = RandomForestClassifier(n_estimators=200,random_state=42,max_depth=i,criterion='log_loss')\n",
    "    m_c.fit(CX,CY)\n",
    "    CY_prev =m_c.predict(CX_V)\n",
    "    train.append(compute_csi(CY,m_c.predict(CX)))\n",
    "    valid.append(compute_csi(CY_V,CY_prev))\n",
    "sns.lineplot(x=np.arange(1,20),y=np.array(train), label='train')\n",
    "sns.lineplot(x=np.arange(1,20),y=np.array(valid), label='valid')"
   ]
  },
  {
   "cell_type": "code",
   "execution_count": 41,
   "metadata": {},
   "outputs": [
    {
     "name": "stdout",
     "output_type": "stream",
     "text": [
      "train_DH 최소 : 0.5070081762055731\n",
      "valid_DH 최소 : 0.4048185603807258\n"
     ]
    }
   ],
   "source": [
    "from sklearn.ensemble import RandomForestClassifier, ExtraTreesClassifier\n",
    "from util import compute_csi\n",
    "m_c = ExtraTreesClassifier(n_estimators=175,random_state=42,max_depth=11,criterion='gini')\n",
    "m_c.fit(CX,CY)\n",
    "CY_prev =m_c.predict(CX_V)\n",
    "print(f\"train_DH 최소 : {compute_csi(CY,m_c.predict(CX))}\")\n",
    "print(f\"valid_DH 최소 : {compute_csi(CY_V,CY_prev)}\")"
   ]
  },
  {
   "cell_type": "code",
   "execution_count": 42,
   "metadata": {},
   "outputs": [
    {
     "name": "stdout",
     "output_type": "stream",
     "text": [
      "DH 최소 : 0.3997620464009518\n"
     ]
    }
   ],
   "source": [
    "CY_prev =np.where(ctest_df['rainfall_train.dh_x'] >200,ctest_df['freq_class'],CY_prev)\n",
    "print(f\"DH 최소 : {compute_csi(CY_V,CY_prev)}\")"
   ]
  },
  {
   "cell_type": "markdown",
   "metadata": {},
   "source": [
    "## 전체 CSI 점수 검증\n"
   ]
  },
  {
   "cell_type": "code",
   "execution_count": 43,
   "metadata": {},
   "outputs": [
    {
     "name": "stderr",
     "output_type": "stream",
     "text": [
      "/tmp/ipykernel_70258/503635885.py:2: SettingWithCopyWarning: \n",
      "A value is trying to be set on a copy of a slice from a DataFrame.\n",
      "Try using .loc[row_indexer,col_indexer] = value instead\n",
      "\n",
      "See the caveats in the documentation: https://pandas.pydata.org/pandas-docs/stable/user_guide/indexing.html#returning-a-view-versus-a-copy\n",
      "  ctest_df['cprev'] = CY_prev\n"
     ]
    }
   ],
   "source": [
    "test_df['prev'] = 0\n",
    "ctest_df['cprev'] = CY_prev\n",
    "rtest_df = pd.merge(rtest_df, test_df.loc[Y_prev,['rainfall_train.stn4contest','rainfall_train.ef_year','rainfall_train.ef_month','rainfall_train.ef_day','rainfall_train.ef_hour','prev']], how=\"left\" , on=['rainfall_train.stn4contest','rainfall_train.ef_year','rainfall_train.ef_month','rainfall_train.ef_day','rainfall_train.ef_hour'])\n",
    "rtest_df = pd.merge(rtest_df, ctest_df[['rainfall_train.stn4contest','rainfall_train.ef_year','rainfall_train.ef_month','rainfall_train.ef_day','rainfall_train.ef_hour','cprev']], how=\"left\" , on=['rainfall_train.stn4contest','rainfall_train.ef_year','rainfall_train.ef_month','rainfall_train.ef_day','rainfall_train.ef_hour'])\n",
    "rtest_df['prev'] = rtest_df['cprev'].combine_first(rtest_df['prev'])\n",
    "rtest_df['prev'] = rtest_df['prev'].fillna(1)\n"
   ]
  },
  {
   "cell_type": "code",
   "execution_count": 44,
   "metadata": {},
   "outputs": [
    {
     "name": "stdout",
     "output_type": "stream",
     "text": [
      "최종 CSI : 0.3566389328199134\n"
     ]
    }
   ],
   "source": [
    "print(f\"최종 CSI : {compute_csi(rtest_df['rainfall_train.class_interval'], rtest_df['prev'])}\")"
   ]
  },
  {
   "cell_type": "code",
   "execution_count": 76,
   "metadata": {},
   "outputs": [
    {
     "name": "stdout",
     "output_type": "stream",
     "text": [
      "['rainfall_train.ef_hour' 'rainfall_train.v01' 'rainfall_train.v02'\n",
      " 'rainfall_train.v03' 'rainfall_train.v04' 'rainfall_train.v05'\n",
      " 'rainfall_train.v06' 'rainfall_train.v07' 'rainfall_train.v08'\n",
      " 'rainfall_train.v09' 'mean_vmedian' 'cluster' 'mean_class']\n",
      "[0.05629255 0.0552275  0.07859168 0.07006807 0.07754969 0.10675345\n",
      " 0.12907855 0.10316926 0.04935702 0.02643088 0.10887826 0.03585235\n",
      " 0.10275074]\n"
     ]
    },
    {
     "data": {
      "image/png": "[encoded data removed]",
      "text/plain": [
       "<Figure size 640x480 with 1 Axes>"
      ]
     },
     "metadata": {},
     "output_type": "display_data"
    }
   ],
   "source": [
    "import matplotlib.pyplot as plt\n",
    "import seaborn as sns\n",
    "sns.barplot(x=CX_V.columns.values,y=m_c.feature_importances_)\n",
    "plt.xticks(rotation=30)\n",
    "print(CX_V.columns.values)\n",
    "print(m_c.feature_importances_)"
   ]
  },
  {
   "cell_type": "markdown",
   "metadata": {},
   "source": [
    "### 제출"
   ]
  },
  {
   "cell_type": "code",
   "execution_count": 162,
   "metadata": {},
   "outputs": [],
   "source": [
    "from util import preprocessing_simple_test\n",
    "\n",
    "TEST =preprocessing_simple_test()\n",
    "TEST['rainfall_test.ef_hour'] /= 24.0\n",
    "TEST['day'] = month_to_day(TEST[\"rainfall_test.ef_month\"]) + TEST[\"rainfall_test.ef_day\"]\n",
    "TEST['daysin'] = np.sin(np.pi*2*(TEST['day']/365.0))\n",
    "TEST['daycos'] = np.cos(np.pi*2*(TEST['day']/365.0))\n",
    "TEST.columns = TEST.columns.str.replace(\"rainfall_test\",\"rainfall_train\")\n",
    "TEST = make_mean(TEST)\n",
    "TEST['cluster'] = 0\n",
    "for i in range(4):\n",
    "    TEST.loc[mean_df['rainfall_train.stn4contest'].isin(np.array(list(map(lambda x: f\"STN{format(x,'03')}\",_dict[str(i)])))),'cluster'] = i\n",
    "#---\n",
    "TEST['cluster_class'] = 0\n",
    "for i in range(4):\n",
    "    day2class = day2class_list[i]\n",
    "    TEST = pd.merge(TEST,day2class,how='left',on=['cluster','day'])\n",
    "    TEST['cluster_class'] = TEST['mean_class_tmp'].combine_first(TEST['cluster_class'])\n",
    "    TEST = TEST.drop(columns=['mean_class_tmp'])\n",
    "TEST['cluster_class'] = StandardScaler().fit_transform(TEST[['cluster_class']])\n",
    "#---\n",
    "TEST = pd.merge(TEST,day2classall,how=\"left\",on=['day'])\n",
    "X=TEST.drop(columns=['rainfall_train.stn4contest','rainfall_train.ef_year','rainfall_train.ef_month','rainfall_train.ef_day','v_max','v_median','day','rainfall_train.class_interval','rainfall_train.dh_x','cluster','cluster_class'])\n",
    "b_pred = m_b.predict(X)\n",
    "CTEST = TEST[~b_pred].reset_index(drop=True)\n",
    "X= X[~b_pred].drop(columns=['mean_vmax','rainfall_train.v00','daycos','daysin'])\n",
    "X['cluster_class'] =TEST.loc[~b_pred,'cluster_class']\n",
    "CTEST['class'] = m_c.predict(X)\n",
    "TEST.loc[b_pred, 'rainfall_train.class_interval'] = 0\n",
    "tmp_df = pd.merge(TEST,CTEST[['rainfall_train.stn4contest','rainfall_train.ef_year','rainfall_train.ef_month','rainfall_train.ef_day','rainfall_train.ef_hour','class']],how='left',on=['rainfall_train.stn4contest','rainfall_train.ef_year','rainfall_train.ef_month','rainfall_train.ef_day','rainfall_train.ef_hour'])\n",
    "tmp_df['rainfall_train.class_interval'] = tmp_df['class'].combine_first(tmp_df['rainfall_train.class_interval'])\n",
    "tmp_df['rainfall_train.ef_hour'] *= 24\n",
    "tmp_df['rainfall_train.ef_hour'] = tmp_df['rainfall_train.ef_hour'].astype(int)\n",
    "tmp_df.drop(columns=['class'],inplace=True)\n",
    "tmp_df = tmp_df.rename(columns={'rainfall_train.class_interval':'class'})\n",
    "tmp_df.columns = tmp_df.columns.str.replace(\"rainfall_train\", \"rainfall_test\")"
   ]
  },
  {
   "cell_type": "code",
   "execution_count": 163,
   "metadata": {},
   "outputs": [],
   "source": [
    "RAW= pd.read_csv(\"./data/rainfall_test.csv\").drop(columns=[\"Unnamed: 0\"])\n",
    "ind = RAW['rainfall_test.class_interval'] == -999\n",
    "tt_df = pd.merge(RAW,tmp_df[['rainfall_test.stn4contest','rainfall_test.ef_year','rainfall_test.ef_month','rainfall_test.ef_day','rainfall_test.ef_hour','class']],how='left',on=['rainfall_test.stn4contest','rainfall_test.ef_year','rainfall_test.ef_month','rainfall_test.ef_day','rainfall_test.ef_hour'])\n",
    "RAW['rainfall_test.class_interval']=tt_df['class'].combine_first(tt_df['rainfall_test.class_interval'])\n",
    "RAW['rainfall_test.class_interval'] = RAW['rainfall_test.class_interval'].astype(int)\n",
    "RAW.loc[ind,'rainfall_test.class_interval'] = -999"
   ]
  },
  {
   "cell_type": "markdown",
   "metadata": {},
   "source": [
    "#### 제출파일 검증"
   ]
  },
  {
   "cell_type": "code",
   "execution_count": 164,
   "metadata": {},
   "outputs": [
    {
     "data": {
      "text/plain": [
       "rainfall_test.class_interval\n",
       " 0      103599\n",
       " 5       12782\n",
       " 7        1759\n",
       " 6        1497\n",
       " 2        1192\n",
       " 4         761\n",
       " 9         180\n",
       "-999       130\n",
       " 3          80\n",
       " 8          20\n",
       "Name: count, dtype: int64"
      ]
     },
     "execution_count": 164,
     "metadata": {},
     "output_type": "execute_result"
    }
   ],
   "source": [
    "RAW['rainfall_test.class_interval'].value_counts()"
   ]
  },
  {
   "cell_type": "code",
   "execution_count": 165,
   "metadata": {},
   "outputs": [],
   "source": [
    "RAW.to_csv('240198.csv',index=False,encoding='euc-kr')"
   ]
  },
  {
   "cell_type": "code",
   "execution_count": null,
   "metadata": {},
   "outputs": [],
   "source": []
  }
 ],
 "metadata": {
  "kernelspec": {
   "display_name": "base",
   "language": "python",
   "name": "python3"
  },
  "language_info": {
   "codemirror_mode": {
    "name": "ipython",
    "version": 3
   },
   "file_extension": ".py",
   "mimetype": "text/x-python",
   "name": "python",
   "nbconvert_exporter": "python",
   "pygments_lexer": "ipython3",
   "version": "3.1.undefined"
  }
 },
 "nbformat": 4,
 "nbformat_minor": 2
}
