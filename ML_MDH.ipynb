{
 "cells": [
  {
   "cell_type": "markdown",
   "metadata": {},
   "source": [
    "### 데이터 전처리\n"
   ]
  },
  {
   "cell_type": "code",
   "execution_count": 532,
   "metadata": {},
   "outputs": [],
   "source": [
    "from util import preprocessing_simple_train\n",
    "from util import month_to_day, make_mean\n",
    "import pandas as pd\n",
    "import numpy as np\n",
    "\n",
    "mean_df = preprocessing_simple_train(\"fast\")\n",
    "tmp = month_to_day(mean_df['rainfall_train.ef_month']) + mean_df['rainfall_train.ef_day'] \n",
    "\n",
    "time_step = 1\n",
    "mean_df['daysin'] = np.sin(tmp)\n",
    "mean_df['daycos'] = np.cos(tmp)\n",
    "mean_df['day'] = tmp\n",
    "mean_df = make_mean(mean_df,15)\n",
    "r_df = pd.read_csv('./data/rainfall_train.csv')[['rainfall_train.stn4contest','rainfall_train.ef_year','rainfall_train.ef_month','rainfall_train.ef_day','rainfall_train.ef_hour','rainfall_train.class_interval']]\n",
    "r_df = r_df[r_df['rainfall_train.class_interval'] != -999]\n",
    "\n",
    "tmp = mean_df.groupby(by=['rainfall_train.ef_year','rainfall_train.stn4contest','day'])['v_median'].mean().reset_index().copy()\n",
    "tmp = tmp.rename(columns={'v_median':'day_vmedian'})\n",
    "\n",
    "\n",
    "mean_df = pd.merge(mean_df,tmp,how='left',on=['rainfall_train.ef_year','rainfall_train.stn4contest','day'])\n"
   ]
  },
  {
   "cell_type": "code",
   "execution_count": 533,
   "metadata": {},
   "outputs": [],
   "source": [
    "step = 2\n",
    "\n",
    "_stn = [f\"STN{format(i,'03')}\" for i in range(1,21)]\n",
    "mean_df['prev_vmedian'] = None\n",
    "mean_df['post_vmedian'] = None\n",
    "\n",
    "\n",
    "for i in mean_df['rainfall_train.ef_year'].unique(): \n",
    "    for j in _stn:\n",
    "        tmp = mean_df[(mean_df['rainfall_train.stn4contest'] == j) & (mean_df['rainfall_train.ef_year'] == i)].sort_values(['day'])\n",
    "        mean_df.loc[tmp.index,'prev_vmedian'] = (tmp['v_median'] - tmp['v_median'].shift(-5).fillna(tmp.loc[tmp.index[-1], 'v_median']))/5.0\n",
    "        mean_df.loc[tmp.index,'post_vmedian'] = (tmp['v_median'].shift(5).fillna(tmp.loc[tmp.index[0], 'v_median']) - tmp['v_median'])/5.0\n",
    "\n"
   ]
  },
  {
   "cell_type": "markdown",
   "metadata": {},
   "source": [
    "### 테스트/ 검증 데이터 결정\n",
    "####  테스트데이터"
   ]
  },
  {
   "cell_type": "code",
   "execution_count": 590,
   "metadata": {},
   "outputs": [],
   "source": [
    "from util import make_day2class, make_day2freqclass\n",
    "from sklearn.preprocessing import StandardScaler\n",
    "import pandas as pd \n",
    "\n",
    "_year = \"C\"\n",
    "\n",
    "train_df = mean_df[mean_df['rainfall_train.ef_year'] != _year].reset_index(drop=True)\n",
    "test_df = mean_df[mean_df['rainfall_train.ef_year'] == _year].reset_index(drop=True)\n",
    "rtrain_df = r_df[r_df['rainfall_train.ef_year'] != _year].reset_index(drop=True)\n",
    "rtest_df = r_df[r_df['rainfall_train.ef_year'] == _year].reset_index(drop=True)\n",
    "\n",
    "day2class = make_day2class(train_df)\n",
    "day2freqclass = make_day2freqclass(train_df)\n",
    "\n",
    "day2class=day2class.rename(columns={\"rainfall_train.class_interval\":\"mean_class\"})\n",
    "day2class['mean_class'] = StandardScaler().fit_transform(day2class[['mean_class']])\n",
    "\n",
    "day2freqclass=day2freqclass.rename(columns={\"rainfall_train.class_interval\":\"freq_class\"})\n",
    "train_df = pd.merge(train_df,day2class,how=\"left\",on=['day']).copy()\n",
    "train_df = pd.merge(train_df,day2freqclass,how=\"left\",on=['day']).copy()\n",
    "train_df['freq_class'] = train_df['freq_class'].fillna(0)\n",
    "test_df = pd.merge(test_df,day2class,how=\"left\",on=['day']).copy()\n",
    "test_df = pd.merge(test_df,day2freqclass,how=\"left\",on=['day']).copy()\n",
    "test_df['freq_class'] = test_df['freq_class'].fillna(0)"
   ]
  },
  {
   "cell_type": "markdown",
   "metadata": {},
   "source": [
    "#### 제출용 데이터"
   ]
  },
  {
   "cell_type": "code",
   "execution_count": 591,
   "metadata": {},
   "outputs": [],
   "source": [
    "from util import make_day2class\n",
    "import pandas as pd \n",
    "day2class = make_day2class(mean_df)\n",
    "day2class=day2class.rename(columns={\"rainfall_train.class_interval\":\"mean_class\"})\n",
    "day2class['mean_class'] = StandardScaler().fit_transform(day2class[['mean_class']])\n",
    "\n",
    "day2freqclass = make_day2freqclass(train_df)\n",
    "day2freqclass=day2freqclass.rename(columns={\"rainfall_train.class_interval\":\"freq_class\"})\n",
    "train_df = pd.merge(mean_df,day2class,how=\"left\",on=['day']).copy()\n",
    "train_df = pd.merge(train_df,day2freqclass,how=\"left\",on=['day']).copy()"
   ]
  },
  {
   "cell_type": "markdown",
   "metadata": {},
   "source": [
    "### 무강수/강수 데이터 만들기"
   ]
  },
  {
   "cell_type": "code",
   "execution_count": 592,
   "metadata": {},
   "outputs": [],
   "source": [
    "X = train_df.drop(columns=[\"rainfall_train.stn4contest\",\"rainfall_train.ef_year\",\"rainfall_train.ef_month\",\"rainfall_train.ef_day\",\"rainfall_train.vv\",\"rainfall_train.class_interval\",'v_max','day','freq_class','rainfall_train.dh_x','mean_vmax','daysin','daycos','rainfall_train.ef_hour','mean_class','mean_vmedian','prev_vmedian','post_vmedian'])\n",
    "Y = train_df[\"rainfall_train.class_interval\"]\n",
    "X_V = test_df.drop(columns=[\"rainfall_train.stn4contest\",\"rainfall_train.ef_year\",\"rainfall_train.ef_month\",\"rainfall_train.ef_day\",\"rainfall_train.vv\",\"rainfall_train.class_interval\",'v_max','day','freq_class','rainfall_train.dh_x','mean_vmax','daycos','daysin','rainfall_train.ef_hour','mean_class','mean_vmedian','prev_vmedian','post_vmedian'])\n",
    "Y_V = test_df[\"rainfall_train.class_interval\"]"
   ]
  },
  {
   "cell_type": "code",
   "execution_count": 593,
   "metadata": {},
   "outputs": [
    {
     "data": {
      "text/plain": [
       "Index(['rainfall_train.v01', 'rainfall_train.v02', 'rainfall_train.v03',\n",
       "       'rainfall_train.v04', 'rainfall_train.v05', 'rainfall_train.v06',\n",
       "       'rainfall_train.v07', 'rainfall_train.v08', 'rainfall_train.v09',\n",
       "       'rainfall_train.v00', 'v_median', 'day_vmedian'],\n",
       "      dtype='object')"
      ]
     },
     "execution_count": 593,
     "metadata": {},
     "output_type": "execute_result"
    }
   ],
   "source": [
    "X.columns"
   ]
  },
  {
   "cell_type": "markdown",
   "metadata": {},
   "source": [
    "## 강수/무강수 분류"
   ]
  },
  {
   "cell_type": "code",
   "execution_count": 594,
   "metadata": {},
   "outputs": [
    {
     "name": "stdout",
     "output_type": "stream",
     "text": [
      "무강수/강수 분류 train_score: 0.9155605433226268\n",
      "무강수/강수 분류 valid_score: 0.9260709439813918\n"
     ]
    }
   ],
   "source": [
    "from sklearn.ensemble import RandomForestClassifier\n",
    "from sklearn.ensemble import ExtraTreesClassifier\n",
    "from sklearn.metrics import accuracy_score\n",
    "m_b = RandomForestClassifier(n_estimators= 175, criterion = 'log_loss', max_depth = 12,max_leaf_nodes = 45, random_state=42) \n",
    "m_b.fit(X,Y==0)\n",
    "Y_prev = m_b.predict(X_V)\n",
    "print(f\"무강수/강수 분류 train_score: {accuracy_score(Y==0,m_b.predict(X))}\")\n",
    "print(f\"무강수/강수 분류 valid_score: {accuracy_score(Y_V==0,Y_prev)}\")"
   ]
  },
  {
   "cell_type": "code",
   "execution_count": 595,
   "metadata": {},
   "outputs": [
    {
     "data": {
      "text/plain": [
       "<Axes: xlabel='None'>"
      ]
     },
     "execution_count": 595,
     "metadata": {},
     "output_type": "execute_result"
    },
    {
     "data": {
      "image/png": "[encoded data removed]",
      "text/plain": [
       "<Figure size 640x480 with 1 Axes>"
      ]
     },
     "metadata": {},
     "output_type": "display_data"
    }
   ],
   "source": [
    "import matplotlib.pyplot as plt\n",
    "import seaborn as sns\n",
    "\n",
    "plt.xticks(rotation=45)\n",
    "sns.barplot(x=X.columns, y=m_b.feature_importances_)"
   ]
  },
  {
   "cell_type": "markdown",
   "metadata": {},
   "source": [
    "## 강수 무강수 데이터"
   ]
  },
  {
   "cell_type": "code",
   "execution_count": 596,
   "metadata": {},
   "outputs": [
    {
     "name": "stdout",
     "output_type": "stream",
     "text": [
      "[]\n"
     ]
    }
   ],
   "source": [
    "ctrain_df = train_df[train_df['rainfall_train.class_interval'] != 0]\n",
    "ctest_df = test_df[test_df['rainfall_train.class_interval'] != 0]\n",
    "\n",
    "_ef = [f\"rainfall_train.v0{i}\" for i in range(10,10)]\n",
    "print(_ef)\n",
    "CX = ctrain_df.drop(columns=[\"rainfall_train.stn4contest\",\"rainfall_train.ef_year\",\"rainfall_train.ef_month\",\"rainfall_train.ef_day\",\"rainfall_train.vv\",\"rainfall_train.class_interval\",'v_max','day','mean_vmax','freq_class','rainfall_train.dh_x','daysin','daycos','rainfall_train.ef_hour','mean_class'])\n",
    "# CX['rainfall_train.ef_hour'] /= 24.0\n",
    "CX = CX.drop(columns=_ef)\n",
    "CY = ctrain_df[\"rainfall_train.class_interval\"]\n",
    "CX_V = ctest_df.drop(columns=[\"rainfall_train.stn4contest\",\"rainfall_train.ef_year\",\"rainfall_train.ef_month\",\"rainfall_train.ef_day\",\"rainfall_train.vv\",\"rainfall_train.class_interval\",'v_max','day','mean_vmax','freq_class','rainfall_train.dh_x','daysin','daycos','rainfall_train.ef_hour','mean_class'])\n",
    "# CX_V['rainfall_train.ef_hour'] /= 24.0\n",
    "CX_V = CX_V.drop(columns=_ef)\n",
    "CY_V = ctest_df[\"rainfall_train.class_interval\"]"
   ]
  },
  {
   "cell_type": "code",
   "execution_count": 597,
   "metadata": {},
   "outputs": [
    {
     "data": {
      "text/plain": [
       "Index(['rainfall_train.v01', 'rainfall_train.v02', 'rainfall_train.v03',\n",
       "       'rainfall_train.v04', 'rainfall_train.v05', 'rainfall_train.v06',\n",
       "       'rainfall_train.v07', 'rainfall_train.v08', 'rainfall_train.v09',\n",
       "       'rainfall_train.v00', 'v_median', 'mean_vmedian', 'day_vmedian',\n",
       "       'prev_vmedian', 'post_vmedian'],\n",
       "      dtype='object')"
      ]
     },
     "execution_count": 597,
     "metadata": {},
     "output_type": "execute_result"
    }
   ],
   "source": [
    "CX.columns"
   ]
  },
  {
   "cell_type": "code",
   "execution_count": 609,
   "metadata": {},
   "outputs": [
    {
     "name": "stdout",
     "output_type": "stream",
     "text": [
      "train_DH 최소 : 1.0\n",
      "valid_DH 최소 : 1.0\n"
     ]
    }
   ],
   "source": [
    "from sklearn.ensemble import RandomForestClassifier, ExtraTreesClassifier\n",
    "from sklearn.ensemble import GradientBoostingClassifier\n",
    "\n",
    "from util import compute_csi\n",
    "m_c = GradientBoostingClassifier(n_estimators=150,random_state=42,max_depth=12,criterion='squared_error')\n",
    "m_c.fit(CX,CY)\n",
    "CY_prev =m_c.predict(CX_V)\n",
    "print(f\"train_DH 최소 : {compute_csi(CY,m_c.predict(CX))}\")\n",
    "print(f\"valid_DH 최소 : {compute_csi(CY_V,CY_prev)}\")"
   ]
  },
  {
   "cell_type": "code",
   "execution_count": 599,
   "metadata": {},
   "outputs": [
    {
     "name": "stdout",
     "output_type": "stream",
     "text": [
      "DH 최소 : 0.5240928019036288\n"
     ]
    }
   ],
   "source": [
    "CY_prev =np.where(ctest_df['rainfall_train.dh_x'] >200,ctest_df['freq_class'],CY_prev)\n",
    "print(f\"DH 최소 : {compute_csi(CY_V,CY_prev)}\")"
   ]
  },
  {
   "cell_type": "code",
   "execution_count": 600,
   "metadata": {},
   "outputs": [
    {
     "data": {
      "text/plain": [
       "([0, 1, 2, 3, 4, 5, 6, 7, 8, 9, 10, 11, 12, 13, 14],\n",
       " [Text(0, 0, 'rainfall_train.v01'),\n",
       "  Text(1, 0, 'rainfall_train.v02'),\n",
       "  Text(2, 0, 'rainfall_train.v03'),\n",
       "  Text(3, 0, 'rainfall_train.v04'),\n",
       "  Text(4, 0, 'rainfall_train.v05'),\n",
       "  Text(5, 0, 'rainfall_train.v06'),\n",
       "  Text(6, 0, 'rainfall_train.v07'),\n",
       "  Text(7, 0, 'rainfall_train.v08'),\n",
       "  Text(8, 0, 'rainfall_train.v09'),\n",
       "  Text(9, 0, 'rainfall_train.v00'),\n",
       "  Text(10, 0, 'v_median'),\n",
       "  Text(11, 0, 'mean_vmedian'),\n",
       "  Text(12, 0, 'day_vmedian'),\n",
       "  Text(13, 0, 'prev_vmedian'),\n",
       "  Text(14, 0, 'post_vmedian')])"
      ]
     },
     "execution_count": 600,
     "metadata": {},
     "output_type": "execute_result"
    },
    {
     "data": {
      "image/png": "[encoded data removed]",
      "text/plain": [
       "<Figure size 640x480 with 1 Axes>"
      ]
     },
     "metadata": {},
     "output_type": "display_data"
    }
   ],
   "source": [
    "import seaborn as sns\n",
    "import matplotlib.pyplot as plt \n",
    "\n",
    "\n",
    "sns.barplot(x=CX.columns, y=m_c.feature_importances_)\n",
    "plt.xticks(rotation=45)"
   ]
  },
  {
   "cell_type": "markdown",
   "metadata": {},
   "source": [
    "## 전체 CSI 점수 검증\n"
   ]
  },
  {
   "cell_type": "code",
   "execution_count": 601,
   "metadata": {},
   "outputs": [
    {
     "name": "stderr",
     "output_type": "stream",
     "text": [
      "/tmp/ipykernel_1860/503635885.py:2: SettingWithCopyWarning: \n",
      "A value is trying to be set on a copy of a slice from a DataFrame.\n",
      "Try using .loc[row_indexer,col_indexer] = value instead\n",
      "\n",
      "See the caveats in the documentation: https://pandas.pydata.org/pandas-docs/stable/user_guide/indexing.html#returning-a-view-versus-a-copy\n",
      "  ctest_df['cprev'] = CY_prev\n"
     ]
    }
   ],
   "source": [
    "test_df['prev'] = 0\n",
    "ctest_df['cprev'] = CY_prev\n",
    "rtest_df = pd.merge(rtest_df, test_df.loc[Y_prev,['rainfall_train.stn4contest','rainfall_train.ef_year','rainfall_train.ef_month','rainfall_train.ef_day','rainfall_train.ef_hour','prev']], how=\"left\" , on=['rainfall_train.stn4contest','rainfall_train.ef_year','rainfall_train.ef_month','rainfall_train.ef_day','rainfall_train.ef_hour'])\n",
    "rtest_df = pd.merge(rtest_df, ctest_df[['rainfall_train.stn4contest','rainfall_train.ef_year','rainfall_train.ef_month','rainfall_train.ef_day','rainfall_train.ef_hour','cprev']], how=\"left\" , on=['rainfall_train.stn4contest','rainfall_train.ef_year','rainfall_train.ef_month','rainfall_train.ef_day','rainfall_train.ef_hour'])\n",
    "rtest_df['prev'] = rtest_df['cprev'].combine_first(rtest_df['prev'])\n",
    "rtest_df['prev'] = rtest_df['prev'].fillna(1)\n"
   ]
  },
  {
   "cell_type": "code",
   "execution_count": 603,
   "metadata": {},
   "outputs": [
    {
     "name": "stdout",
     "output_type": "stream",
     "text": [
      "최종 CSI : 0.4639987935620082\n"
     ]
    }
   ],
   "source": [
    "print(f\"최종 CSI : {compute_csi(rtest_df['rainfall_train.class_interval'], rtest_df['prev'])}\")"
   ]
  },
  {
   "cell_type": "code",
   "execution_count": 604,
   "metadata": {},
   "outputs": [
    {
     "name": "stdout",
     "output_type": "stream",
     "text": [
      "['rainfall_train.v01' 'rainfall_train.v02' 'rainfall_train.v03'\n",
      " 'rainfall_train.v04' 'rainfall_train.v05' 'rainfall_train.v06'\n",
      " 'rainfall_train.v07' 'rainfall_train.v08' 'rainfall_train.v09'\n",
      " 'rainfall_train.v00' 'v_median' 'mean_vmedian' 'day_vmedian'\n",
      " 'prev_vmedian' 'post_vmedian']\n",
      "[0.05171782 0.06067377 0.05500539 0.06073303 0.0872333  0.09517916\n",
      " 0.10227523 0.04167682 0.02782266 0.05672411 0.11723471 0.05402059\n",
      " 0.06050724 0.05969708 0.06949909]\n"
     ]
    },
    {
     "data": {
      "image/png": "[encoded data removed]",
      "text/plain": [
       "<Figure size 640x480 with 1 Axes>"
      ]
     },
     "metadata": {},
     "output_type": "display_data"
    }
   ],
   "source": [
    "import matplotlib.pyplot as plt\n",
    "import seaborn as sns\n",
    "sns.barplot(x=CX_V.columns.values,y=m_c.feature_importances_)\n",
    "plt.xticks(rotation=30)\n",
    "print(CX_V.columns.values)\n",
    "print(m_c.feature_importances_)"
   ]
  },
  {
   "cell_type": "markdown",
   "metadata": {},
   "source": [
    "### 제출"
   ]
  },
  {
   "cell_type": "code",
   "execution_count": 605,
   "metadata": {},
   "outputs": [],
   "source": [
    "from util import preprocessing_simple_test\n",
    "\n",
    "TEST =preprocessing_simple_test()\n",
    "TEST['rainfall_test.ef_hour'] /= 24.0\n",
    "TEST['day'] = month_to_day(TEST[\"rainfall_test.ef_month\"]) + TEST[\"rainfall_test.ef_day\"]\n",
    "TEST['daysin'] = np.sin(np.pi*2*(TEST['day']/365.0))\n",
    "TEST['daycos'] = np.cos(np.pi*2*(TEST['day']/365.0))\n",
    "TEST.columns = TEST.columns.str.replace(\"rainfall_test\",\"rainfall_train\")\n",
    "TEST = make_mean(TEST,15)\n",
    "\n",
    "tmp= TEST.groupby(by=['rainfall_train.stn4contest','day'])['v_median'].mean().reset_index()\n",
    "tmp= tmp.rename(columns={'v_median':'day_vmedian'})\n",
    "TEST=pd.merge(TEST,tmp, on=['rainfall_train.stn4contest','day'],how='left')\n",
    "\n",
    "\n",
    "\n",
    "TEST['prev_vmedian'] = None\n",
    "TEST['post_vmedian'] = None\n",
    "\n",
    "\n",
    "for i in TEST['rainfall_train.ef_year'].unique(): \n",
    "    for j in TEST['rainfall_train.stn4contest'].unique():\n",
    "        tmp = TEST[(TEST['rainfall_train.stn4contest'] == j) & (TEST['rainfall_train.ef_year'] == i)].sort_values(['day'])\n",
    "        TEST.loc[tmp.index,'prev_vmedian'] = (tmp['v_median'] - tmp['v_median'].shift(-5).fillna(tmp.loc[tmp.index[-1], 'v_median']))/5.0\n",
    "        TEST.loc[tmp.index,'post_vmedian'] = (tmp['v_median'].shift(5).fillna(tmp.loc[tmp.index[0], 'v_median']) - tmp['v_median'])/5.0\n",
    "        \n",
    "TEST = pd.merge(TEST,day2class,how=\"left\",on=['day'])\n",
    "X=TEST.drop(columns=['rainfall_train.stn4contest','rainfall_train.ef_year','rainfall_train.ef_month','rainfall_train.ef_day','v_max','day','rainfall_train.class_interval','rainfall_train.dh_x','daysin','daycos','mean_vmax','mean_vmedian','rainfall_train.ef_hour','mean_class','prev_vmedian','post_vmedian'])\n",
    "b_pred = m_b.predict(X)\n",
    "CTEST = TEST[~b_pred].reset_index(drop=True)\n",
    "X= CTEST.drop(columns=['rainfall_train.stn4contest','rainfall_train.ef_year','rainfall_train.ef_month','rainfall_train.ef_day','v_max','day','rainfall_train.class_interval','rainfall_train.dh_x','mean_vmax','mean_class','daysin','daycos','rainfall_train.ef_hour'])\n",
    "CTEST['class'] = m_c.predict(X)\n",
    "TEST.loc[b_pred, 'rainfall_train.class_interval'] = 0\n",
    "tmp_df = pd.merge(TEST,CTEST[['rainfall_train.stn4contest','rainfall_train.ef_year','rainfall_train.ef_month','rainfall_train.ef_day','rainfall_train.ef_hour','class']],how='left',on=['rainfall_train.stn4contest','rainfall_train.ef_year','rainfall_train.ef_month','rainfall_train.ef_day','rainfall_train.ef_hour'])\n",
    "tmp_df['rainfall_train.class_interval'] = tmp_df['class'].combine_first(tmp_df['rainfall_train.class_interval'])\n",
    "tmp_df['rainfall_train.ef_hour'] *= 24\n",
    "tmp_df['rainfall_train.ef_hour'] = tmp_df['rainfall_train.ef_hour'].astype(int)\n",
    "tmp_df.drop(columns=['class'],inplace=True)\n",
    "tmp_df = tmp_df.rename(columns={'rainfall_train.class_interval':'class'})\n",
    "tmp_df.columns = tmp_df.columns.str.replace(\"rainfall_train\", \"rainfall_test\")"
   ]
  },
  {
   "cell_type": "code",
   "execution_count": 606,
   "metadata": {},
   "outputs": [],
   "source": [
    "RAW= pd.read_csv(\"./data/rainfall_test.csv\").drop(columns=[\"Unnamed: 0\"])\n",
    "ind = RAW['rainfall_test.class_interval'] == -999\n",
    "tt_df = pd.merge(RAW,tmp_df[['rainfall_test.stn4contest','rainfall_test.ef_year','rainfall_test.ef_month','rainfall_test.ef_day','rainfall_test.ef_hour','class']],how='left',on=['rainfall_test.stn4contest','rainfall_test.ef_year','rainfall_test.ef_month','rainfall_test.ef_day','rainfall_test.ef_hour'])\n",
    "RAW['rainfall_test.class_interval']=tt_df['class'].combine_first(tt_df['rainfall_test.class_interval'])\n",
    "RAW['rainfall_test.class_interval'] = RAW['rainfall_test.class_interval'].astype(int)\n",
    "RAW.loc[ind,'rainfall_test.class_interval'] = -999"
   ]
  },
  {
   "cell_type": "markdown",
   "metadata": {},
   "source": [
    "#### 제출파일 검증"
   ]
  },
  {
   "cell_type": "code",
   "execution_count": 607,
   "metadata": {},
   "outputs": [
    {
     "data": {
      "text/plain": [
       "rainfall_test.class_interval\n",
       " 0      102751\n",
       " 5       12854\n",
       " 6        2229\n",
       " 7        1496\n",
       " 2        1004\n",
       " 4         939\n",
       " 3         257\n",
       " 9         200\n",
       " 8         140\n",
       "-999       130\n",
       "Name: count, dtype: int64"
      ]
     },
     "execution_count": 607,
     "metadata": {},
     "output_type": "execute_result"
    }
   ],
   "source": [
    "RAW['rainfall_test.class_interval'].value_counts()"
   ]
  },
  {
   "cell_type": "code",
   "execution_count": 578,
   "metadata": {},
   "outputs": [],
   "source": [
    "RAW.to_csv('240198.csv',index=False,encoding='euc-kr')"
   ]
  },
  {
   "cell_type": "code",
   "execution_count": null,
   "metadata": {},
   "outputs": [],
   "source": []
  }
 ],
 "metadata": {
  "kernelspec": {
   "display_name": "base",
   "language": "python",
   "name": "python3"
  },
  "language_info": {
   "codemirror_mode": {
    "name": "ipython",
    "version": 3
   },
   "file_extension": ".py",
   "mimetype": "text/x-python",
   "name": "python",
   "nbconvert_exporter": "python",
   "pygments_lexer": "ipython3",
   "version": "3.10.13"
  }
 },
 "nbformat": 4,
 "nbformat_minor": 2
}
