{
 "cells": [
  {
   "cell_type": "code",
   "execution_count": 1,
   "metadata": {},
   "outputs": [
    {
     "name": "stderr",
     "output_type": "stream",
     "text": [
      "2024-06-07 00:30:57.946803: I external/local_tsl/tsl/cuda/cudart_stub.cc:32] Could not find cuda drivers on your machine, GPU will not be used.\n",
      "2024-06-07 00:30:57.950391: I external/local_tsl/tsl/cuda/cudart_stub.cc:32] Could not find cuda drivers on your machine, GPU will not be used.\n",
      "2024-06-07 00:30:58.026128: I tensorflow/core/platform/cpu_feature_guard.cc:210] This TensorFlow binary is optimized to use available CPU instructions in performance-critical operations.\n",
      "To enable the following instructions: AVX2, in other operations, rebuild TensorFlow with the appropriate compiler flags.\n",
      "2024-06-07 00:30:59.044442: W tensorflow/compiler/tf2tensorrt/utils/py_utils.cc:38] TF-TRT Warning: Could not find TensorRT\n"
     ]
    }
   ],
   "source": [
    "from model import fstm_model\n",
    "from model import dstm_model\n",
    "from model import create_dstm_data_set\n",
    "from model import create_tstm_data_set\n",
    "from util import preprocessing_daegun\n",
    "\n",
    "df = preprocessing_daegun()"
   ]
  },
  {
   "cell_type": "code",
   "execution_count": 2,
   "metadata": {},
   "outputs": [
    {
     "data": {
      "text/plain": [
       "count    485936.000000\n",
       "mean          1.099673\n",
       "std           5.172230\n",
       "min           0.000000\n",
       "25%           0.000000\n",
       "50%           0.000000\n",
       "75%           0.000000\n",
       "max         115.200000\n",
       "Name: VV, dtype: float64"
      ]
     },
     "execution_count": 2,
     "metadata": {},
     "output_type": "execute_result"
    }
   ],
   "source": [
    "df[df['rainfall_train.ef_year'] == 'A']['VV'].describe()"
   ]
  },
  {
   "cell_type": "code",
   "execution_count": 3,
   "metadata": {},
   "outputs": [
    {
     "name": "stderr",
     "output_type": "stream",
     "text": [
      "/home/encore/workspace/TSI/model.py:141: SettingWithCopyWarning: \n",
      "A value is trying to be set on a copy of a slice from a DataFrame.\n",
      "Try using .loc[row_indexer,col_indexer] = value instead\n",
      "\n",
      "See the caveats in the documentation: https://pandas.pydata.org/pandas-docs/stable/user_guide/indexing.html#returning-a-view-versus-a-copy\n",
      "  df['list'] = df.drop(columns=['VV','STN','V0','rainfall_train.ef_year','day','rainfall_train.ef_hour','class','RP']).apply(lambda x: np.array(x),axis=1)\n",
      "100%|██████████| 20/20 [00:04<00:00,  5.00it/s]\n",
      "/home/encore/workspace/TSI/model.py:141: SettingWithCopyWarning: \n",
      "A value is trying to be set on a copy of a slice from a DataFrame.\n",
      "Try using .loc[row_indexer,col_indexer] = value instead\n",
      "\n",
      "See the caveats in the documentation: https://pandas.pydata.org/pandas-docs/stable/user_guide/indexing.html#returning-a-view-versus-a-copy\n",
      "  df['list'] = df.drop(columns=['VV','STN','V0','rainfall_train.ef_year','day','rainfall_train.ef_hour','class','RP']).apply(lambda x: np.array(x),axis=1)\n",
      "100%|██████████| 20/20 [00:02<00:00,  8.74it/s]\n"
     ]
    }
   ],
   "source": [
    "X,Y,sample_weights,len_list = create_tstm_data_set(df[df['rainfall_train.ef_year'] !='A'])\n",
    "X_V,Y_V,_,_= create_tstm_data_set(df[df['rainfall_train.ef_year'] == 'A'])"
   ]
  },
  {
   "cell_type": "code",
   "execution_count": 4,
   "metadata": {},
   "outputs": [
    {
     "name": "stderr",
     "output_type": "stream",
     "text": [
      "/home/encore/.local/lib/python3.10/site-packages/keras/src/layers/rnn/rnn.py:204: UserWarning: Do not pass an `input_shape`/`input_dim` argument to a layer. When using Sequential models, prefer using an `Input(shape)` object as the first layer in the model instead.\n",
      "  super().__init__(**kwargs)\n"
     ]
    }
   ],
   "source": [
    "from tensorflow import keras\n",
    "timestep=5\n",
    "input_X = keras.layers.Input((timestep,20,15))\n",
    "input_Y = keras.layers.Input((timestep,1))\n",
    "#각 DH 마다의 가중치에 따라 feature 생성\n",
    "unit = 1\n",
    "channel_process = []\n",
    "\n",
    "# 인코딩 과정\n",
    "for i in range(timestep):\n",
    "    _channel = keras.layers.Lambda(lambda x : x[:,i,:,:])(input_X)\n",
    "    _channel = keras.layers.LSTM(100, input_shape=(20,15))(_channel)\n",
    "    channel_process.append(_channel)\n",
    "encode_X = keras.layers.Concatenate()(channel_process)\n",
    "encode_X = keras.layers.Reshape((timestep,100))(encode_X)\n",
    "encode_X = keras.layers.LSTM(100, return_sequences=True, input_shape=(timestep,))(encode_X)\n",
    "encode_X = keras.layers.LSTM(50, return_sequences=True, input_shape=(timestep,))(encode_X)\n",
    "encode_X = keras.layers.LSTM(10, return_sequences=True, input_shape=(timestep,))(encode_X)\n",
    "encode_out,h,c = keras.layers.LSTM(1, return_sequences=True, return_state=True, input_shape=(timestep,))(encode_X)\n",
    "# 디코딩 과정\n",
    "d_h = keras.layers.Reshape((1,))(h[:,-1])\n",
    "d_c = keras.layers.Reshape((1,))(c[:,-1])\n",
    "d_o = keras.layers.Reshape((1,1))(encode_out[:,0])\n",
    "encode_state = [d_h,d_c]\n",
    "# 비교 (timestep, 10)\n",
    "DX = keras.layers.Concatenate(axis=1)([d_o,input_Y[:,:-1]])\n",
    "decoder_lstm = keras.layers.LSTM(unit, return_sequences=True)\n",
    "DX = decoder_lstm(DX,initial_state=encode_state)\n",
    "DX = keras.layers.Flatten()(DX)\n"
   ]
  },
  {
   "cell_type": "code",
   "execution_count": 5,
   "metadata": {},
   "outputs": [],
   "source": [
    "from tensorflow.keras.losses import MeanSquaredError\n",
    "\n",
    "encode_decode = keras.Model(inputs=[input_X,input_Y], outputs=DX)\n",
    "encode_decode.compile(optimizer=\"adam\", loss=\"mean_squared_error\")"
   ]
  },
  {
   "cell_type": "code",
   "execution_count": 6,
   "metadata": {},
   "outputs": [
    {
     "name": "stdout",
     "output_type": "stream",
     "text": [
      "Epoch 1/30\n"
     ]
    },
    {
     "name": "stderr",
     "output_type": "stream",
     "text": [
      "2024-06-07 00:32:40.612661: W external/local_tsl/tsl/framework/cpu_allocator_impl.cc:83] Allocation of 310254000 exceeds 10% of free system memory.\n"
     ]
    },
    {
     "name": "stdout",
     "output_type": "stream",
     "text": [
      "\u001b[1m1724/1724\u001b[0m \u001b[32m━━━━━━━━━━━━━━━━━━━━\u001b[0m\u001b[37m\u001b[0m \u001b[1m134s\u001b[0m 70ms/step - loss: 101.7701 - val_loss: 25.2748\n",
      "Epoch 2/30\n",
      "\u001b[1m1724/1724\u001b[0m \u001b[32m━━━━━━━━━━━━━━━━━━━━\u001b[0m\u001b[37m\u001b[0m \u001b[1m120s\u001b[0m 70ms/step - loss: 96.3638 - val_loss: 25.2678\n",
      "Epoch 3/30\n",
      "\u001b[1m1724/1724\u001b[0m \u001b[32m━━━━━━━━━━━━━━━━━━━━\u001b[0m\u001b[37m\u001b[0m \u001b[1m156s\u001b[0m 78ms/step - loss: 94.8694 - val_loss: 25.2303\n",
      "Epoch 4/30\n",
      "\u001b[1m1724/1724\u001b[0m \u001b[32m━━━━━━━━━━━━━━━━━━━━\u001b[0m\u001b[37m\u001b[0m \u001b[1m143s\u001b[0m 79ms/step - loss: 89.7065 - val_loss: 25.1766\n",
      "Epoch 5/30\n",
      "\u001b[1m1724/1724\u001b[0m \u001b[32m━━━━━━━━━━━━━━━━━━━━\u001b[0m\u001b[37m\u001b[0m \u001b[1m152s\u001b[0m 84ms/step - loss: 89.3524 - val_loss: 25.1306\n",
      "Epoch 6/30\n",
      "\u001b[1m1724/1724\u001b[0m \u001b[32m━━━━━━━━━━━━━━━━━━━━\u001b[0m\u001b[37m\u001b[0m \u001b[1m133s\u001b[0m 77ms/step - loss: 96.8091 - val_loss: 25.1005\n",
      "Epoch 7/30\n",
      "\u001b[1m1724/1724\u001b[0m \u001b[32m━━━━━━━━━━━━━━━━━━━━\u001b[0m\u001b[37m\u001b[0m \u001b[1m131s\u001b[0m 76ms/step - loss: 93.5619 - val_loss: 25.0795\n",
      "Epoch 8/30\n",
      "\u001b[1m1724/1724\u001b[0m \u001b[32m━━━━━━━━━━━━━━━━━━━━\u001b[0m\u001b[37m\u001b[0m \u001b[1m154s\u001b[0m 89ms/step - loss: 101.6076 - val_loss: 25.0654\n",
      "Epoch 9/30\n",
      "\u001b[1m1724/1724\u001b[0m \u001b[32m━━━━━━━━━━━━━━━━━━━━\u001b[0m\u001b[37m\u001b[0m \u001b[1m164s\u001b[0m 95ms/step - loss: 92.8729 - val_loss: 25.0549\n",
      "Epoch 10/30\n",
      "\u001b[1m1724/1724\u001b[0m \u001b[32m━━━━━━━━━━━━━━━━━━━━\u001b[0m\u001b[37m\u001b[0m \u001b[1m166s\u001b[0m 96ms/step - loss: 93.9912 - val_loss: 25.0456\n",
      "Epoch 11/30\n",
      "\u001b[1m1724/1724\u001b[0m \u001b[32m━━━━━━━━━━━━━━━━━━━━\u001b[0m\u001b[37m\u001b[0m \u001b[1m141s\u001b[0m 82ms/step - loss: 94.3202 - val_loss: 25.0379\n",
      "Epoch 12/30\n",
      "\u001b[1m1724/1724\u001b[0m \u001b[32m━━━━━━━━━━━━━━━━━━━━\u001b[0m\u001b[37m\u001b[0m \u001b[1m137s\u001b[0m 80ms/step - loss: 96.4285 - val_loss: 25.0316\n",
      "Epoch 13/30\n",
      "\u001b[1m1724/1724\u001b[0m \u001b[32m━━━━━━━━━━━━━━━━━━━━\u001b[0m\u001b[37m\u001b[0m \u001b[1m122s\u001b[0m 68ms/step - loss: 91.7809 - val_loss: 25.0284\n",
      "Epoch 14/30\n",
      "\u001b[1m1724/1724\u001b[0m \u001b[32m━━━━━━━━━━━━━━━━━━━━\u001b[0m\u001b[37m\u001b[0m \u001b[1m119s\u001b[0m 69ms/step - loss: 95.4361 - val_loss: 25.0263\n",
      "Epoch 15/30\n",
      "\u001b[1m1724/1724\u001b[0m \u001b[32m━━━━━━━━━━━━━━━━━━━━\u001b[0m\u001b[37m\u001b[0m \u001b[1m118s\u001b[0m 68ms/step - loss: 88.9026 - val_loss: 25.0253\n",
      "Epoch 16/30\n",
      "\u001b[1m1724/1724\u001b[0m \u001b[32m━━━━━━━━━━━━━━━━━━━━\u001b[0m\u001b[37m\u001b[0m \u001b[1m120s\u001b[0m 70ms/step - loss: 94.6449 - val_loss: 25.0210\n",
      "Epoch 17/30\n",
      "\u001b[1m1724/1724\u001b[0m \u001b[32m━━━━━━━━━━━━━━━━━━━━\u001b[0m\u001b[37m\u001b[0m \u001b[1m118s\u001b[0m 69ms/step - loss: 96.8578 - val_loss: 25.0170\n",
      "Epoch 18/30\n",
      "\u001b[1m1724/1724\u001b[0m \u001b[32m━━━━━━━━━━━━━━━━━━━━\u001b[0m\u001b[37m\u001b[0m \u001b[1m126s\u001b[0m 73ms/step - loss: 95.8426 - val_loss: 25.0147\n",
      "Epoch 19/30\n",
      "\u001b[1m1724/1724\u001b[0m \u001b[32m━━━━━━━━━━━━━━━━━━━━\u001b[0m\u001b[37m\u001b[0m \u001b[1m121s\u001b[0m 70ms/step - loss: 90.4991 - val_loss: 25.0162\n",
      "Epoch 20/30\n",
      "\u001b[1m1724/1724\u001b[0m \u001b[32m━━━━━━━━━━━━━━━━━━━━\u001b[0m\u001b[37m\u001b[0m \u001b[1m127s\u001b[0m 74ms/step - loss: 89.3239 - val_loss: 25.0148\n",
      "Epoch 21/30\n",
      "\u001b[1m1724/1724\u001b[0m \u001b[32m━━━━━━━━━━━━━━━━━━━━\u001b[0m\u001b[37m\u001b[0m \u001b[1m122s\u001b[0m 71ms/step - loss: 88.3067 - val_loss: 25.0124\n",
      "Epoch 22/30\n",
      "\u001b[1m1724/1724\u001b[0m \u001b[32m━━━━━━━━━━━━━━━━━━━━\u001b[0m\u001b[37m\u001b[0m \u001b[1m142s\u001b[0m 71ms/step - loss: 87.7278 - val_loss: 25.0132\n",
      "Epoch 23/30\n",
      "\u001b[1m1724/1724\u001b[0m \u001b[32m━━━━━━━━━━━━━━━━━━━━\u001b[0m\u001b[37m\u001b[0m \u001b[1m124s\u001b[0m 72ms/step - loss: 85.5974 - val_loss: 25.0128\n",
      "Epoch 24/30\n",
      "\u001b[1m1724/1724\u001b[0m \u001b[32m━━━━━━━━━━━━━━━━━━━━\u001b[0m\u001b[37m\u001b[0m \u001b[1m120s\u001b[0m 70ms/step - loss: 95.7676 - val_loss: 25.0105\n",
      "Epoch 25/30\n",
      "\u001b[1m1724/1724\u001b[0m \u001b[32m━━━━━━━━━━━━━━━━━━━━\u001b[0m\u001b[37m\u001b[0m \u001b[1m146s\u001b[0m 85ms/step - loss: 93.5193 - val_loss: 25.0080\n",
      "Epoch 26/30\n",
      "\u001b[1m1724/1724\u001b[0m \u001b[32m━━━━━━━━━━━━━━━━━━━━\u001b[0m\u001b[37m\u001b[0m \u001b[1m127s\u001b[0m 74ms/step - loss: 91.4959 - val_loss: 25.0077\n",
      "Epoch 27/30\n",
      "\u001b[1m1724/1724\u001b[0m \u001b[32m━━━━━━━━━━━━━━━━━━━━\u001b[0m\u001b[37m\u001b[0m \u001b[1m133s\u001b[0m 68ms/step - loss: 83.4656 - val_loss: 25.0081\n",
      "Epoch 28/30\n",
      "\u001b[1m1724/1724\u001b[0m \u001b[32m━━━━━━━━━━━━━━━━━━━━\u001b[0m\u001b[37m\u001b[0m \u001b[1m122s\u001b[0m 70ms/step - loss: 98.5760 - val_loss: 25.0063\n",
      "Epoch 29/30\n",
      "\u001b[1m1724/1724\u001b[0m \u001b[32m━━━━━━━━━━━━━━━━━━━━\u001b[0m\u001b[37m\u001b[0m \u001b[1m121s\u001b[0m 70ms/step - loss: 92.6780 - val_loss: 25.0048\n",
      "Epoch 30/30\n",
      "\u001b[1m1724/1724\u001b[0m \u001b[32m━━━━━━━━━━━━━━━━━━━━\u001b[0m\u001b[37m\u001b[0m \u001b[1m144s\u001b[0m 71ms/step - loss: 94.5465 - val_loss: 25.0065\n"
     ]
    }
   ],
   "source": [
    "from metric import CSImetric\n",
    "\n",
    "checkpoint_cb = keras.callbacks.ModelCheckpoint('tstm_best-model.keras')\n",
    "early_stopping_cb = keras.callbacks.EarlyStopping(patience=5, \n",
    "                                                  restore_best_weights=True)\n",
    "history = encode_decode.fit([X,Y], Y, batch_size=30,validation_data=[[X_V,Y_V],Y_V],epochs=30, verbose=1,callbacks=[checkpoint_cb,early_stopping_cb],sample_weight=sample_weights)"
   ]
  },
  {
   "cell_type": "code",
   "execution_count": 5,
   "metadata": {},
   "outputs": [],
   "source": [
    "encoder= keras.Model(input_X, [encode_out,h,c])"
   ]
  },
  {
   "cell_type": "code",
   "execution_count": 6,
   "metadata": {},
   "outputs": [],
   "source": [
    "encoder.save_wiegths('encode.keras')"
   ]
  },
  {
   "cell_type": "code",
   "execution_count": 8,
   "metadata": {},
   "outputs": [],
   "source": [
    "from tensorflow import keras\n",
    "\n",
    "decode_X = keras.layers.Input((timestep,1))\n",
    "decode_h = keras.layers.Input((1,))\n",
    "decode_c = keras.layers.Input((1,))\n",
    "\n",
    "decodeY = decoder_lstm(decode_X,initial_state=[decode_h,decode_c])\n",
    "decodeY = keras.layers.Flatten()(decodeY)\n",
    "\n",
    "decoder = keras.Model([decode_X,decode_h,decode_c],decodeY)"
   ]
  },
  {
   "cell_type": "code",
   "execution_count": 9,
   "metadata": {},
   "outputs": [],
   "source": [
    "decoder.load_weights('klstm_best-model.keras')"
   ]
  },
  {
   "cell_type": "code",
   "execution_count": 10,
   "metadata": {},
   "outputs": [],
   "source": [
    "def predict_model(X):\n",
    "    ex, eh, ec =encoder.predict(X)\n",
    "    result = decoder.predict([ex,eh,ec])\n",
    "    return result"
   ]
  },
  {
   "cell_type": "code",
   "execution_count": 9,
   "metadata": {},
   "outputs": [],
   "source": []
  },
  {
   "cell_type": "code",
   "execution_count": 10,
   "metadata": {},
   "outputs": [
    {
     "name": "stdout",
     "output_type": "stream",
     "text": [
      "Epoch 1/30\n"
     ]
    },
    {
     "name": "stderr",
     "output_type": "stream",
     "text": [
      "2024-06-07 00:27:22.015534: W external/local_tsl/tsl/framework/cpu_allocator_impl.cc:83] Allocation of 310254000 exceeds 10% of free system memory.\n"
     ]
    },
    {
     "name": "stdout",
     "output_type": "stream",
     "text": [
      "\u001b[1m1723/1724\u001b[0m \u001b[32m━━━━━━━━━━━━━━━━━━━\u001b[0m\u001b[37m━\u001b[0m \u001b[1m0s\u001b[0m 56ms/step - loss: 94.7928"
     ]
    }
   ],
   "source": [
    "from metric import CSImetric\n",
    "\n",
    "checkpoint_cb = keras.callbacks.ModelCheckpoint('ilstm_best-model.keras')\n",
    "early_stopping_cb = keras.callbacks.EarlyStopping(patience=5, \n",
    "                                                  restore_best_weights=True)\n",
    "history = encode_decode.fit([X,Y], Y, batch_size=30,validation_data=[[X_V,Y_V],Y_V],epochs=30, verbose=1,callbacks=[checkpoint_cb,early_stopping_cb],sample_weight=sample_weights)"
   ]
  },
  {
   "cell_type": "code",
   "execution_count": 32,
   "metadata": {},
   "outputs": [],
   "source": []
  },
  {
   "cell_type": "code",
   "execution_count": 33,
   "metadata": {},
   "outputs": [
    {
     "name": "stdout",
     "output_type": "stream",
     "text": [
      "\u001b[1m807/807\u001b[0m \u001b[32m━━━━━━━━━━━━━━━━━━━━\u001b[0m\u001b[37m\u001b[0m \u001b[1m20s\u001b[0m 23ms/step\n"
     ]
    }
   ],
   "source": [
    "XX=encoder.predict(X_V)"
   ]
  },
  {
   "cell_type": "code",
   "execution_count": 47,
   "metadata": {},
   "outputs": [],
   "source": []
  },
  {
   "cell_type": "code",
   "execution_count": 73,
   "metadata": {},
   "outputs": [
    {
     "name": "stdout",
     "output_type": "stream",
     "text": [
      "\u001b[1m   4/1616\u001b[0m \u001b[37m━━━━━━━━━━━━━━━━━━━━\u001b[0m \u001b[1m34s\u001b[0m 21ms/step "
     ]
    },
    {
     "name": "stderr",
     "output_type": "stream",
     "text": [
      "2024-05-30 05:37:55.829819: W external/local_tsl/tsl/framework/cpu_allocator_impl.cc:83] Allocation of 310254000 exceeds 10% of free system memory.\n"
     ]
    },
    {
     "name": "stdout",
     "output_type": "stream",
     "text": [
      "\u001b[1m1616/1616\u001b[0m \u001b[32m━━━━━━━━━━━━━━━━━━━━\u001b[0m\u001b[37m\u001b[0m \u001b[1m38s\u001b[0m 23ms/step\n",
      "\u001b[1m807/807\u001b[0m \u001b[32m━━━━━━━━━━━━━━━━━━━━\u001b[0m\u001b[37m\u001b[0m \u001b[1m20s\u001b[0m 25ms/step\n"
     ]
    }
   ],
   "source": [
    "dx,dh,dc  = encoder2.predict(X)\n",
    "dxv,dhv,dcv = encoder2.predict(X_V)"
   ]
  },
  {
   "cell_type": "code",
   "execution_count": 44,
   "metadata": {},
   "outputs": [
    {
     "data": {
      "text/plain": [
       "(51709,)"
      ]
     },
     "execution_count": 44,
     "metadata": {},
     "output_type": "execute_result"
    }
   ],
   "source": [
    "dh.reshape(-1).shape"
   ]
  },
  {
   "cell_type": "code",
   "execution_count": 74,
   "metadata": {},
   "outputs": [],
   "source": [
    "decoder.compile(optimizer='adam',loss=\"mean_squared_error\")"
   ]
  },
  {
   "cell_type": "code",
   "execution_count": 75,
   "metadata": {},
   "outputs": [
    {
     "name": "stdout",
     "output_type": "stream",
     "text": [
      "Epoch 1/30\n",
      "\u001b[1m1724/1724\u001b[0m \u001b[32m━━━━━━━━━━━━━━━━━━━━\u001b[0m\u001b[37m\u001b[0m \u001b[1m14s\u001b[0m 7ms/step - loss: 5.6173e-10 - val_loss: 5.8659e-11\n",
      "Epoch 2/30\n",
      "\u001b[1m1724/1724\u001b[0m \u001b[32m━━━━━━━━━━━━━━━━━━━━\u001b[0m\u001b[37m\u001b[0m \u001b[1m13s\u001b[0m 7ms/step - loss: 2.5903e-10 - val_loss: 4.2736e-11\n",
      "Epoch 3/30\n",
      "\u001b[1m1724/1724\u001b[0m \u001b[32m━━━━━━━━━━━━━━━━━━━━\u001b[0m\u001b[37m\u001b[0m \u001b[1m12s\u001b[0m 7ms/step - loss: 1.8460e-10 - val_loss: 1.1104e-10\n",
      "Epoch 4/30\n",
      "\u001b[1m1724/1724\u001b[0m \u001b[32m━━━━━━━━━━━━━━━━━━━━\u001b[0m\u001b[37m\u001b[0m \u001b[1m21s\u001b[0m 7ms/step - loss: 1.9084e-10 - val_loss: 8.3488e-11\n",
      "Epoch 5/30\n",
      "\u001b[1m1724/1724\u001b[0m \u001b[32m━━━━━━━━━━━━━━━━━━━━\u001b[0m\u001b[37m\u001b[0m \u001b[1m12s\u001b[0m 7ms/step - loss: 2.2118e-10 - val_loss: 6.1454e-11\n",
      "Epoch 6/30\n",
      "\u001b[1m1724/1724\u001b[0m \u001b[32m━━━━━━━━━━━━━━━━━━━━\u001b[0m\u001b[37m\u001b[0m \u001b[1m12s\u001b[0m 7ms/step - loss: 1.6736e-10 - val_loss: 3.6494e-11\n",
      "Epoch 7/30\n",
      "\u001b[1m1724/1724\u001b[0m \u001b[32m━━━━━━━━━━━━━━━━━━━━\u001b[0m\u001b[37m\u001b[0m \u001b[1m13s\u001b[0m 7ms/step - loss: 2.3924e-10 - val_loss: 3.4355e-11\n",
      "Epoch 8/30\n",
      "\u001b[1m1724/1724\u001b[0m \u001b[32m━━━━━━━━━━━━━━━━━━━━\u001b[0m\u001b[37m\u001b[0m \u001b[1m14s\u001b[0m 8ms/step - loss: 9.9072e-11 - val_loss: 1.6259e-10\n",
      "Epoch 9/30\n",
      "\u001b[1m1724/1724\u001b[0m \u001b[32m━━━━━━━━━━━━━━━━━━━━\u001b[0m\u001b[37m\u001b[0m \u001b[1m19s\u001b[0m 7ms/step - loss: 2.1126e-10 - val_loss: 3.1364e-11\n",
      "Epoch 10/30\n",
      "\u001b[1m1724/1724\u001b[0m \u001b[32m━━━━━━━━━━━━━━━━━━━━\u001b[0m\u001b[37m\u001b[0m \u001b[1m13s\u001b[0m 8ms/step - loss: 2.2544e-10 - val_loss: 3.0238e-11\n",
      "Epoch 11/30\n",
      "\u001b[1m1724/1724\u001b[0m \u001b[32m━━━━━━━━━━━━━━━━━━━━\u001b[0m\u001b[37m\u001b[0m \u001b[1m20s\u001b[0m 7ms/step - loss: 1.6028e-10 - val_loss: 7.2167e-11\n",
      "Epoch 12/30\n",
      "\u001b[1m1724/1724\u001b[0m \u001b[32m━━━━━━━━━━━━━━━━━━━━\u001b[0m\u001b[37m\u001b[0m \u001b[1m13s\u001b[0m 8ms/step - loss: 1.9210e-10 - val_loss: 2.9211e-11\n",
      "Epoch 13/30\n",
      "\u001b[1m1724/1724\u001b[0m \u001b[32m━━━━━━━━━━━━━━━━━━━━\u001b[0m\u001b[37m\u001b[0m \u001b[1m12s\u001b[0m 7ms/step - loss: 1.8577e-10 - val_loss: 2.6792e-11\n",
      "Epoch 14/30\n",
      "\u001b[1m1724/1724\u001b[0m \u001b[32m━━━━━━━━━━━━━━━━━━━━\u001b[0m\u001b[37m\u001b[0m \u001b[1m13s\u001b[0m 7ms/step - loss: 1.6210e-10 - val_loss: 3.2301e-11\n",
      "Epoch 15/30\n",
      "\u001b[1m1724/1724\u001b[0m \u001b[32m━━━━━━━━━━━━━━━━━━━━\u001b[0m\u001b[37m\u001b[0m \u001b[1m21s\u001b[0m 8ms/step - loss: 3.4569e-10 - val_loss: 6.6336e-11\n",
      "Epoch 16/30\n",
      "\u001b[1m1724/1724\u001b[0m \u001b[32m━━━━━━━━━━━━━━━━━━━━\u001b[0m\u001b[37m\u001b[0m \u001b[1m13s\u001b[0m 7ms/step - loss: 1.4957e-10 - val_loss: 2.3746e-11\n",
      "Epoch 17/30\n",
      "\u001b[1m1724/1724\u001b[0m \u001b[32m━━━━━━━━━━━━━━━━━━━━\u001b[0m\u001b[37m\u001b[0m \u001b[1m13s\u001b[0m 7ms/step - loss: 1.2899e-10 - val_loss: 4.8975e-11\n",
      "Epoch 18/30\n",
      "\u001b[1m1724/1724\u001b[0m \u001b[32m━━━━━━━━━━━━━━━━━━━━\u001b[0m\u001b[37m\u001b[0m \u001b[1m13s\u001b[0m 8ms/step - loss: 1.8096e-10 - val_loss: 3.1030e-11\n",
      "Epoch 19/30\n",
      "\u001b[1m1724/1724\u001b[0m \u001b[32m━━━━━━━━━━━━━━━━━━━━\u001b[0m\u001b[37m\u001b[0m \u001b[1m12s\u001b[0m 7ms/step - loss: 1.8438e-10 - val_loss: 2.3586e-11\n",
      "Epoch 20/30\n",
      "\u001b[1m1724/1724\u001b[0m \u001b[32m━━━━━━━━━━━━━━━━━━━━\u001b[0m\u001b[37m\u001b[0m \u001b[1m14s\u001b[0m 8ms/step - loss: 1.5228e-10 - val_loss: 2.8353e-11\n",
      "Epoch 21/30\n",
      "\u001b[1m1724/1724\u001b[0m \u001b[32m━━━━━━━━━━━━━━━━━━━━\u001b[0m\u001b[37m\u001b[0m \u001b[1m12s\u001b[0m 7ms/step - loss: 1.1290e-10 - val_loss: 4.8661e-11\n",
      "Epoch 22/30\n",
      "\u001b[1m1724/1724\u001b[0m \u001b[32m━━━━━━━━━━━━━━━━━━━━\u001b[0m\u001b[37m\u001b[0m \u001b[1m13s\u001b[0m 7ms/step - loss: 1.1757e-10 - val_loss: 4.2843e-11\n",
      "Epoch 23/30\n",
      "\u001b[1m1724/1724\u001b[0m \u001b[32m━━━━━━━━━━━━━━━━━━━━\u001b[0m\u001b[37m\u001b[0m \u001b[1m13s\u001b[0m 8ms/step - loss: 2.4156e-10 - val_loss: 2.5437e-11\n",
      "Epoch 24/30\n",
      "\u001b[1m1724/1724\u001b[0m \u001b[32m━━━━━━━━━━━━━━━━━━━━\u001b[0m\u001b[37m\u001b[0m \u001b[1m13s\u001b[0m 7ms/step - loss: 5.9492e-11 - val_loss: 4.7066e-11\n"
     ]
    }
   ],
   "source": [
    "from metric import CSImetric\n",
    "\n",
    "checkpoint_cb = keras.callbacks.ModelCheckpoint('klstm_best-model.keras')\n",
    "early_stopping_cb = keras.callbacks.EarlyStopping(patience=5, \n",
    "                                                  restore_best_weights=True)\n",
    "history = decoder.fit([dx,dh,dc], Y, batch_size=30,validation_data=[[dxv,dhv,dcv],Y_V],epochs=30, verbose=1,callbacks=[checkpoint_cb,early_stopping_cb],sample_weight=sample_weights)"
   ]
  },
  {
   "cell_type": "code",
   "execution_count": 7,
   "metadata": {},
   "outputs": [
    {
     "data": {
      "image/png": "[encoded data removed]",
      "text/plain": [
       "<Figure size 640x480 with 1 Axes>"
      ]
     },
     "metadata": {},
     "output_type": "display_data"
    }
   ],
   "source": [
    "import matplotlib.pyplot as plt\n",
    "plt.plot(history.history['loss'])\n",
    "plt.plot(history.history['val_loss'])\n",
    "plt.xlabel('epoch')\n",
    "plt.ylabel('loss')\n",
    "plt.legend(['train', 'val'])\n",
    "plt.savefig('7_3-07', dpi=300)\n",
    "plt.show()"
   ]
  },
  {
   "cell_type": "code",
   "execution_count": 50,
   "metadata": {},
   "outputs": [
    {
     "data": {
      "text/html": [
       "<pre style=\"white-space:pre;overflow-x:auto;line-height:normal;font-family:Menlo,'DejaVu Sans Mono',consolas,'Courier New',monospace\"><span style=\"font-weight: bold\">Model: \"functional_19\"</span>\n",
       "</pre>\n"
      ],
      "text/plain": [
       "\u001b[1mModel: \"functional_19\"\u001b[0m\n"
      ]
     },
     "metadata": {},
     "output_type": "display_data"
    },
    {
     "data": {
      "text/html": [
       "<pre style=\"white-space:pre;overflow-x:auto;line-height:normal;font-family:Menlo,'DejaVu Sans Mono',consolas,'Courier New',monospace\">┏━━━━━━━━━━━━━━━━━━━━━┳━━━━━━━━━━━━━━━━━━━┳━━━━━━━━━━━━┳━━━━━━━━━━━━━━━━━━━┓\n",
       "┃<span style=\"font-weight: bold\"> Layer (type)        </span>┃<span style=\"font-weight: bold\"> Output Shape      </span>┃<span style=\"font-weight: bold\">    Param # </span>┃<span style=\"font-weight: bold\"> Connected to      </span>┃\n",
       "┡━━━━━━━━━━━━━━━━━━━━━╇━━━━━━━━━━━━━━━━━━━╇━━━━━━━━━━━━╇━━━━━━━━━━━━━━━━━━━┩\n",
       "│ input_layer_11      │ (<span style=\"color: #00d7ff; text-decoration-color: #00d7ff\">None</span>, <span style=\"color: #00af00; text-decoration-color: #00af00\">5</span>, <span style=\"color: #00af00; text-decoration-color: #00af00\">1</span>)      │          <span style=\"color: #00af00; text-decoration-color: #00af00\">0</span> │ -                 │\n",
       "│ (<span style=\"color: #0087ff; text-decoration-color: #0087ff\">InputLayer</span>)        │                   │            │                   │\n",
       "├─────────────────────┼───────────────────┼────────────┼───────────────────┤\n",
       "│ input_layer_12      │ (<span style=\"color: #00d7ff; text-decoration-color: #00d7ff\">None</span>, <span style=\"color: #00af00; text-decoration-color: #00af00\">1</span>)         │          <span style=\"color: #00af00; text-decoration-color: #00af00\">0</span> │ -                 │\n",
       "│ (<span style=\"color: #0087ff; text-decoration-color: #0087ff\">InputLayer</span>)        │                   │            │                   │\n",
       "├─────────────────────┼───────────────────┼────────────┼───────────────────┤\n",
       "│ input_layer_13      │ (<span style=\"color: #00d7ff; text-decoration-color: #00d7ff\">None</span>, <span style=\"color: #00af00; text-decoration-color: #00af00\">1</span>)         │          <span style=\"color: #00af00; text-decoration-color: #00af00\">0</span> │ -                 │\n",
       "│ (<span style=\"color: #0087ff; text-decoration-color: #0087ff\">InputLayer</span>)        │                   │            │                   │\n",
       "├─────────────────────┼───────────────────┼────────────┼───────────────────┤\n",
       "│ lstm_9 (<span style=\"color: #0087ff; text-decoration-color: #0087ff\">LSTM</span>)       │ (<span style=\"color: #00d7ff; text-decoration-color: #00d7ff\">None</span>, <span style=\"color: #00af00; text-decoration-color: #00af00\">5</span>, <span style=\"color: #00af00; text-decoration-color: #00af00\">1</span>)      │         <span style=\"color: #00af00; text-decoration-color: #00af00\">12</span> │ input_layer_11[<span style=\"color: #00af00; text-decoration-color: #00af00\">0</span>… │\n",
       "│                     │                   │            │ input_layer_12[<span style=\"color: #00af00; text-decoration-color: #00af00\">0</span>… │\n",
       "│                     │                   │            │ input_layer_13[<span style=\"color: #00af00; text-decoration-color: #00af00\">0</span>… │\n",
       "├─────────────────────┼───────────────────┼────────────┼───────────────────┤\n",
       "│ flatten_4 (<span style=\"color: #0087ff; text-decoration-color: #0087ff\">Flatten</span>) │ (<span style=\"color: #00d7ff; text-decoration-color: #00d7ff\">None</span>, <span style=\"color: #00af00; text-decoration-color: #00af00\">5</span>)         │          <span style=\"color: #00af00; text-decoration-color: #00af00\">0</span> │ lstm_9[<span style=\"color: #00af00; text-decoration-color: #00af00\">4</span>][<span style=\"color: #00af00; text-decoration-color: #00af00\">0</span>]      │\n",
       "└─────────────────────┴───────────────────┴────────────┴───────────────────┘\n",
       "</pre>\n"
      ],
      "text/plain": [
       "┏━━━━━━━━━━━━━━━━━━━━━┳━━━━━━━━━━━━━━━━━━━┳━━━━━━━━━━━━┳━━━━━━━━━━━━━━━━━━━┓\n",
       "┃\u001b[1m \u001b[0m\u001b[1mLayer (type)       \u001b[0m\u001b[1m \u001b[0m┃\u001b[1m \u001b[0m\u001b[1mOutput Shape     \u001b[0m\u001b[1m \u001b[0m┃\u001b[1m \u001b[0m\u001b[1m   Param #\u001b[0m\u001b[1m \u001b[0m┃\u001b[1m \u001b[0m\u001b[1mConnected to     \u001b[0m\u001b[1m \u001b[0m┃\n",
       "┡━━━━━━━━━━━━━━━━━━━━━╇━━━━━━━━━━━━━━━━━━━╇━━━━━━━━━━━━╇━━━━━━━━━━━━━━━━━━━┩\n",
       "│ input_layer_11      │ (\u001b[38;5;45mNone\u001b[0m, \u001b[38;5;34m5\u001b[0m, \u001b[38;5;34m1\u001b[0m)      │          \u001b[38;5;34m0\u001b[0m │ -                 │\n",
       "│ (\u001b[38;5;33mInputLayer\u001b[0m)        │                   │            │                   │\n",
       "├─────────────────────┼───────────────────┼────────────┼───────────────────┤\n",
       "│ input_layer_12      │ (\u001b[38;5;45mNone\u001b[0m, \u001b[38;5;34m1\u001b[0m)         │          \u001b[38;5;34m0\u001b[0m │ -                 │\n",
       "│ (\u001b[38;5;33mInputLayer\u001b[0m)        │                   │            │                   │\n",
       "├─────────────────────┼───────────────────┼────────────┼───────────────────┤\n",
       "│ input_layer_13      │ (\u001b[38;5;45mNone\u001b[0m, \u001b[38;5;34m1\u001b[0m)         │          \u001b[38;5;34m0\u001b[0m │ -                 │\n",
       "│ (\u001b[38;5;33mInputLayer\u001b[0m)        │                   │            │                   │\n",
       "├─────────────────────┼───────────────────┼────────────┼───────────────────┤\n",
       "│ lstm_9 (\u001b[38;5;33mLSTM\u001b[0m)       │ (\u001b[38;5;45mNone\u001b[0m, \u001b[38;5;34m5\u001b[0m, \u001b[38;5;34m1\u001b[0m)      │         \u001b[38;5;34m12\u001b[0m │ input_layer_11[\u001b[38;5;34m0\u001b[0m… │\n",
       "│                     │                   │            │ input_layer_12[\u001b[38;5;34m0\u001b[0m… │\n",
       "│                     │                   │            │ input_layer_13[\u001b[38;5;34m0\u001b[0m… │\n",
       "├─────────────────────┼───────────────────┼────────────┼───────────────────┤\n",
       "│ flatten_4 (\u001b[38;5;33mFlatten\u001b[0m) │ (\u001b[38;5;45mNone\u001b[0m, \u001b[38;5;34m5\u001b[0m)         │          \u001b[38;5;34m0\u001b[0m │ lstm_9[\u001b[38;5;34m4\u001b[0m][\u001b[38;5;34m0\u001b[0m]      │\n",
       "└─────────────────────┴───────────────────┴────────────┴───────────────────┘\n"
      ]
     },
     "metadata": {},
     "output_type": "display_data"
    },
    {
     "data": {
      "text/html": [
       "<pre style=\"white-space:pre;overflow-x:auto;line-height:normal;font-family:Menlo,'DejaVu Sans Mono',consolas,'Courier New',monospace\"><span style=\"font-weight: bold\"> Total params: </span><span style=\"color: #00af00; text-decoration-color: #00af00\">38</span> (156.00 B)\n",
       "</pre>\n"
      ],
      "text/plain": [
       "\u001b[1m Total params: \u001b[0m\u001b[38;5;34m38\u001b[0m (156.00 B)\n"
      ]
     },
     "metadata": {},
     "output_type": "display_data"
    },
    {
     "data": {
      "text/html": [
       "<pre style=\"white-space:pre;overflow-x:auto;line-height:normal;font-family:Menlo,'DejaVu Sans Mono',consolas,'Courier New',monospace\"><span style=\"font-weight: bold\"> Trainable params: </span><span style=\"color: #00af00; text-decoration-color: #00af00\">12</span> (48.00 B)\n",
       "</pre>\n"
      ],
      "text/plain": [
       "\u001b[1m Trainable params: \u001b[0m\u001b[38;5;34m12\u001b[0m (48.00 B)\n"
      ]
     },
     "metadata": {},
     "output_type": "display_data"
    },
    {
     "data": {
      "text/html": [
       "<pre style=\"white-space:pre;overflow-x:auto;line-height:normal;font-family:Menlo,'DejaVu Sans Mono',consolas,'Courier New',monospace\"><span style=\"font-weight: bold\"> Non-trainable params: </span><span style=\"color: #00af00; text-decoration-color: #00af00\">0</span> (0.00 B)\n",
       "</pre>\n"
      ],
      "text/plain": [
       "\u001b[1m Non-trainable params: \u001b[0m\u001b[38;5;34m0\u001b[0m (0.00 B)\n"
      ]
     },
     "metadata": {},
     "output_type": "display_data"
    },
    {
     "data": {
      "text/html": [
       "<pre style=\"white-space:pre;overflow-x:auto;line-height:normal;font-family:Menlo,'DejaVu Sans Mono',consolas,'Courier New',monospace\"><span style=\"font-weight: bold\"> Optimizer params: </span><span style=\"color: #00af00; text-decoration-color: #00af00\">26</span> (108.00 B)\n",
       "</pre>\n"
      ],
      "text/plain": [
       "\u001b[1m Optimizer params: \u001b[0m\u001b[38;5;34m26\u001b[0m (108.00 B)\n"
      ]
     },
     "metadata": {},
     "output_type": "display_data"
    }
   ],
   "source": [
    "decoder.summary()"
   ]
  },
  {
   "cell_type": "code",
   "execution_count": null,
   "metadata": {},
   "outputs": [],
   "source": [
    "decoder.save"
   ]
  },
  {
   "cell_type": "code",
   "execution_count": 56,
   "metadata": {},
   "outputs": [
    {
     "name": "stdout",
     "output_type": "stream",
     "text": [
      "\u001b[1m807/807\u001b[0m \u001b[32m━━━━━━━━━━━━━━━━━━━━\u001b[0m\u001b[37m\u001b[0m \u001b[1m17s\u001b[0m 21ms/step\n",
      "\u001b[1m807/807\u001b[0m \u001b[32m━━━━━━━━━━━━━━━━━━━━\u001b[0m\u001b[37m\u001b[0m \u001b[1m3s\u001b[0m 3ms/step\n"
     ]
    }
   ],
   "source": [
    "result =predict_model(X_V)"
   ]
  },
  {
   "cell_type": "code",
   "execution_count": 59,
   "metadata": {},
   "outputs": [
    {
     "data": {
      "text/html": [
       "<div>\n",
       "<style scoped>\n",
       "    .dataframe tbody tr th:only-of-type {\n",
       "        vertical-align: middle;\n",
       "    }\n",
       "\n",
       "    .dataframe tbody tr th {\n",
       "        vertical-align: top;\n",
       "    }\n",
       "\n",
       "    .dataframe thead th {\n",
       "        text-align: right;\n",
       "    }\n",
       "</style>\n",
       "<table border=\"1\" class=\"dataframe\">\n",
       "  <thead>\n",
       "    <tr style=\"text-align: right;\">\n",
       "      <th></th>\n",
       "      <th>DH</th>\n",
       "      <th>VV</th>\n",
       "      <th>STN</th>\n",
       "      <th>V1</th>\n",
       "      <th>V2</th>\n",
       "      <th>V3</th>\n",
       "      <th>V4</th>\n",
       "      <th>V5</th>\n",
       "      <th>V6</th>\n",
       "      <th>V7</th>\n",
       "      <th>...</th>\n",
       "      <th>V0</th>\n",
       "      <th>rainfall_train.ef_hour</th>\n",
       "      <th>rainfall_train.ef_year</th>\n",
       "      <th>day</th>\n",
       "      <th>day_sin</th>\n",
       "      <th>day_cos</th>\n",
       "      <th>hour_sin</th>\n",
       "      <th>hour_cos</th>\n",
       "      <th>RP</th>\n",
       "      <th>BP</th>\n",
       "    </tr>\n",
       "  </thead>\n",
       "  <tbody>\n",
       "    <tr>\n",
       "      <th>0</th>\n",
       "      <td>0.000000</td>\n",
       "      <td>0.0</td>\n",
       "      <td>STN001</td>\n",
       "      <td>0.00</td>\n",
       "      <td>0.00</td>\n",
       "      <td>0.00</td>\n",
       "      <td>0.00</td>\n",
       "      <td>0.00</td>\n",
       "      <td>0.0</td>\n",
       "      <td>0.0</td>\n",
       "      <td>...</td>\n",
       "      <td>100</td>\n",
       "      <td>12</td>\n",
       "      <td>A</td>\n",
       "      <td>121</td>\n",
       "      <td>0.002740</td>\n",
       "      <td>0.999996</td>\n",
       "      <td>1.224647e-16</td>\n",
       "      <td>-1.000000e+00</td>\n",
       "      <td>0.000000</td>\n",
       "      <td>1.0</td>\n",
       "    </tr>\n",
       "    <tr>\n",
       "      <th>1</th>\n",
       "      <td>0.012658</td>\n",
       "      <td>0.0</td>\n",
       "      <td>STN001</td>\n",
       "      <td>0.00</td>\n",
       "      <td>0.00</td>\n",
       "      <td>0.00</td>\n",
       "      <td>0.00</td>\n",
       "      <td>0.00</td>\n",
       "      <td>0.0</td>\n",
       "      <td>0.0</td>\n",
       "      <td>...</td>\n",
       "      <td>100</td>\n",
       "      <td>15</td>\n",
       "      <td>A</td>\n",
       "      <td>121</td>\n",
       "      <td>0.002740</td>\n",
       "      <td>0.999996</td>\n",
       "      <td>-7.071068e-01</td>\n",
       "      <td>-7.071068e-01</td>\n",
       "      <td>0.000000</td>\n",
       "      <td>1.0</td>\n",
       "    </tr>\n",
       "    <tr>\n",
       "      <th>2</th>\n",
       "      <td>0.025316</td>\n",
       "      <td>0.0</td>\n",
       "      <td>STN001</td>\n",
       "      <td>0.00</td>\n",
       "      <td>0.00</td>\n",
       "      <td>0.00</td>\n",
       "      <td>0.00</td>\n",
       "      <td>0.00</td>\n",
       "      <td>0.0</td>\n",
       "      <td>0.0</td>\n",
       "      <td>...</td>\n",
       "      <td>100</td>\n",
       "      <td>18</td>\n",
       "      <td>A</td>\n",
       "      <td>121</td>\n",
       "      <td>0.002740</td>\n",
       "      <td>0.999996</td>\n",
       "      <td>-1.000000e+00</td>\n",
       "      <td>-1.836970e-16</td>\n",
       "      <td>0.001311</td>\n",
       "      <td>1.0</td>\n",
       "    </tr>\n",
       "    <tr>\n",
       "      <th>3</th>\n",
       "      <td>0.037975</td>\n",
       "      <td>0.0</td>\n",
       "      <td>STN001</td>\n",
       "      <td>0.00</td>\n",
       "      <td>0.00</td>\n",
       "      <td>0.00</td>\n",
       "      <td>0.00</td>\n",
       "      <td>0.00</td>\n",
       "      <td>0.0</td>\n",
       "      <td>0.0</td>\n",
       "      <td>...</td>\n",
       "      <td>100</td>\n",
       "      <td>21</td>\n",
       "      <td>A</td>\n",
       "      <td>121</td>\n",
       "      <td>0.002740</td>\n",
       "      <td>0.999996</td>\n",
       "      <td>-7.071068e-01</td>\n",
       "      <td>7.071068e-01</td>\n",
       "      <td>0.000000</td>\n",
       "      <td>1.0</td>\n",
       "    </tr>\n",
       "    <tr>\n",
       "      <th>4</th>\n",
       "      <td>0.050633</td>\n",
       "      <td>0.0</td>\n",
       "      <td>STN001</td>\n",
       "      <td>0.00</td>\n",
       "      <td>0.00</td>\n",
       "      <td>0.00</td>\n",
       "      <td>0.00</td>\n",
       "      <td>0.00</td>\n",
       "      <td>0.0</td>\n",
       "      <td>0.0</td>\n",
       "      <td>...</td>\n",
       "      <td>100</td>\n",
       "      <td>0</td>\n",
       "      <td>A</td>\n",
       "      <td>122</td>\n",
       "      <td>0.005479</td>\n",
       "      <td>0.999985</td>\n",
       "      <td>0.000000e+00</td>\n",
       "      <td>1.000000e+00</td>\n",
       "      <td>0.000000</td>\n",
       "      <td>1.0</td>\n",
       "    </tr>\n",
       "    <tr>\n",
       "      <th>...</th>\n",
       "      <td>...</td>\n",
       "      <td>...</td>\n",
       "      <td>...</td>\n",
       "      <td>...</td>\n",
       "      <td>...</td>\n",
       "      <td>...</td>\n",
       "      <td>...</td>\n",
       "      <td>...</td>\n",
       "      <td>...</td>\n",
       "      <td>...</td>\n",
       "      <td>...</td>\n",
       "      <td>...</td>\n",
       "      <td>...</td>\n",
       "      <td>...</td>\n",
       "      <td>...</td>\n",
       "      <td>...</td>\n",
       "      <td>...</td>\n",
       "      <td>...</td>\n",
       "      <td>...</td>\n",
       "      <td>...</td>\n",
       "      <td>...</td>\n",
       "    </tr>\n",
       "    <tr>\n",
       "      <th>1457247</th>\n",
       "      <td>0.949367</td>\n",
       "      <td>0.5</td>\n",
       "      <td>STN020</td>\n",
       "      <td>0.02</td>\n",
       "      <td>0.05</td>\n",
       "      <td>0.00</td>\n",
       "      <td>0.02</td>\n",
       "      <td>0.00</td>\n",
       "      <td>0.0</td>\n",
       "      <td>0.0</td>\n",
       "      <td>...</td>\n",
       "      <td>91</td>\n",
       "      <td>9</td>\n",
       "      <td>C</td>\n",
       "      <td>283</td>\n",
       "      <td>0.027394</td>\n",
       "      <td>0.999625</td>\n",
       "      <td>7.071068e-01</td>\n",
       "      <td>-7.071068e-01</td>\n",
       "      <td>0.740000</td>\n",
       "      <td>0.0</td>\n",
       "    </tr>\n",
       "    <tr>\n",
       "      <th>1457248</th>\n",
       "      <td>0.962025</td>\n",
       "      <td>0.0</td>\n",
       "      <td>STN020</td>\n",
       "      <td>0.04</td>\n",
       "      <td>0.04</td>\n",
       "      <td>0.02</td>\n",
       "      <td>0.02</td>\n",
       "      <td>0.01</td>\n",
       "      <td>0.0</td>\n",
       "      <td>0.0</td>\n",
       "      <td>...</td>\n",
       "      <td>87</td>\n",
       "      <td>12</td>\n",
       "      <td>C</td>\n",
       "      <td>283</td>\n",
       "      <td>0.027394</td>\n",
       "      <td>0.999625</td>\n",
       "      <td>1.224647e-16</td>\n",
       "      <td>-1.000000e+00</td>\n",
       "      <td>0.111667</td>\n",
       "      <td>1.0</td>\n",
       "    </tr>\n",
       "    <tr>\n",
       "      <th>1457249</th>\n",
       "      <td>0.974684</td>\n",
       "      <td>1.9</td>\n",
       "      <td>STN020</td>\n",
       "      <td>0.04</td>\n",
       "      <td>0.04</td>\n",
       "      <td>0.02</td>\n",
       "      <td>0.02</td>\n",
       "      <td>0.01</td>\n",
       "      <td>0.0</td>\n",
       "      <td>0.0</td>\n",
       "      <td>...</td>\n",
       "      <td>87</td>\n",
       "      <td>15</td>\n",
       "      <td>C</td>\n",
       "      <td>283</td>\n",
       "      <td>0.027394</td>\n",
       "      <td>0.999625</td>\n",
       "      <td>-7.071068e-01</td>\n",
       "      <td>-7.071068e-01</td>\n",
       "      <td>1.280000</td>\n",
       "      <td>0.0</td>\n",
       "    </tr>\n",
       "    <tr>\n",
       "      <th>1457250</th>\n",
       "      <td>0.987342</td>\n",
       "      <td>1.9</td>\n",
       "      <td>STN020</td>\n",
       "      <td>0.02</td>\n",
       "      <td>0.02</td>\n",
       "      <td>0.02</td>\n",
       "      <td>0.00</td>\n",
       "      <td>0.02</td>\n",
       "      <td>0.0</td>\n",
       "      <td>0.0</td>\n",
       "      <td>...</td>\n",
       "      <td>92</td>\n",
       "      <td>18</td>\n",
       "      <td>C</td>\n",
       "      <td>283</td>\n",
       "      <td>0.027394</td>\n",
       "      <td>0.999625</td>\n",
       "      <td>-1.000000e+00</td>\n",
       "      <td>-1.836970e-16</td>\n",
       "      <td>1.198333</td>\n",
       "      <td>0.0</td>\n",
       "    </tr>\n",
       "    <tr>\n",
       "      <th>1457251</th>\n",
       "      <td>1.000000</td>\n",
       "      <td>1.8</td>\n",
       "      <td>STN020</td>\n",
       "      <td>0.02</td>\n",
       "      <td>0.02</td>\n",
       "      <td>0.02</td>\n",
       "      <td>0.00</td>\n",
       "      <td>0.02</td>\n",
       "      <td>0.0</td>\n",
       "      <td>0.0</td>\n",
       "      <td>...</td>\n",
       "      <td>92</td>\n",
       "      <td>21</td>\n",
       "      <td>C</td>\n",
       "      <td>283</td>\n",
       "      <td>0.027394</td>\n",
       "      <td>0.999625</td>\n",
       "      <td>-7.071068e-01</td>\n",
       "      <td>7.071068e-01</td>\n",
       "      <td>1.383333</td>\n",
       "      <td>0.0</td>\n",
       "    </tr>\n",
       "  </tbody>\n",
       "</table>\n",
       "<p>1448762 rows × 23 columns</p>\n",
       "</div>"
      ],
      "text/plain": [
       "               DH   VV     STN    V1    V2    V3    V4    V5   V6   V7  ...  \\\n",
       "0        0.000000  0.0  STN001  0.00  0.00  0.00  0.00  0.00  0.0  0.0  ...   \n",
       "1        0.012658  0.0  STN001  0.00  0.00  0.00  0.00  0.00  0.0  0.0  ...   \n",
       "2        0.025316  0.0  STN001  0.00  0.00  0.00  0.00  0.00  0.0  0.0  ...   \n",
       "3        0.037975  0.0  STN001  0.00  0.00  0.00  0.00  0.00  0.0  0.0  ...   \n",
       "4        0.050633  0.0  STN001  0.00  0.00  0.00  0.00  0.00  0.0  0.0  ...   \n",
       "...           ...  ...     ...   ...   ...   ...   ...   ...  ...  ...  ...   \n",
       "1457247  0.949367  0.5  STN020  0.02  0.05  0.00  0.02  0.00  0.0  0.0  ...   \n",
       "1457248  0.962025  0.0  STN020  0.04  0.04  0.02  0.02  0.01  0.0  0.0  ...   \n",
       "1457249  0.974684  1.9  STN020  0.04  0.04  0.02  0.02  0.01  0.0  0.0  ...   \n",
       "1457250  0.987342  1.9  STN020  0.02  0.02  0.02  0.00  0.02  0.0  0.0  ...   \n",
       "1457251  1.000000  1.8  STN020  0.02  0.02  0.02  0.00  0.02  0.0  0.0  ...   \n",
       "\n",
       "          V0  rainfall_train.ef_hour  rainfall_train.ef_year  day   day_sin  \\\n",
       "0        100                      12                       A  121  0.002740   \n",
       "1        100                      15                       A  121  0.002740   \n",
       "2        100                      18                       A  121  0.002740   \n",
       "3        100                      21                       A  121  0.002740   \n",
       "4        100                       0                       A  122  0.005479   \n",
       "...      ...                     ...                     ...  ...       ...   \n",
       "1457247   91                       9                       C  283  0.027394   \n",
       "1457248   87                      12                       C  283  0.027394   \n",
       "1457249   87                      15                       C  283  0.027394   \n",
       "1457250   92                      18                       C  283  0.027394   \n",
       "1457251   92                      21                       C  283  0.027394   \n",
       "\n",
       "          day_cos      hour_sin      hour_cos        RP   BP  \n",
       "0        0.999996  1.224647e-16 -1.000000e+00  0.000000  1.0  \n",
       "1        0.999996 -7.071068e-01 -7.071068e-01  0.000000  1.0  \n",
       "2        0.999996 -1.000000e+00 -1.836970e-16  0.001311  1.0  \n",
       "3        0.999996 -7.071068e-01  7.071068e-01  0.000000  1.0  \n",
       "4        0.999985  0.000000e+00  1.000000e+00  0.000000  1.0  \n",
       "...           ...           ...           ...       ...  ...  \n",
       "1457247  0.999625  7.071068e-01 -7.071068e-01  0.740000  0.0  \n",
       "1457248  0.999625  1.224647e-16 -1.000000e+00  0.111667  1.0  \n",
       "1457249  0.999625 -7.071068e-01 -7.071068e-01  1.280000  0.0  \n",
       "1457250  0.999625 -1.000000e+00 -1.836970e-16  1.198333  0.0  \n",
       "1457251  0.999625 -7.071068e-01  7.071068e-01  1.383333  0.0  \n",
       "\n",
       "[1448762 rows x 23 columns]"
      ]
     },
     "execution_count": 59,
     "metadata": {},
     "output_type": "execute_result"
    }
   ],
   "source": []
  },
  {
   "cell_type": "markdown",
   "metadata": {},
   "source": []
  },
  {
   "cell_type": "code",
   "execution_count": 61,
   "metadata": {},
   "outputs": [],
   "source": [
    "decoder2.load_weights('klstm_best-model.keras')"
   ]
  },
  {
   "cell_type": "code",
   "execution_count": 67,
   "metadata": {},
   "outputs": [],
   "source": [
    "encoder2= keras.Model(input_X, [encode_out,h,c])"
   ]
  },
  {
   "cell_type": "code",
   "execution_count": 68,
   "metadata": {},
   "outputs": [],
   "source": [
    "encoder2.load_weights('ilstm_best-model.keras')"
   ]
  },
  {
   "cell_type": "code",
   "execution_count": 76,
   "metadata": {},
   "outputs": [],
   "source": [
    "def predict_model(X):\n",
    "    ex, eh, ec =encoder2.predict(X)\n",
    "    result = decoder2.predict([ex,eh,ec])\n",
    "    return result"
   ]
  },
  {
   "cell_type": "code",
   "execution_count": 77,
   "metadata": {},
   "outputs": [
    {
     "name": "stdout",
     "output_type": "stream",
     "text": [
      "\u001b[1m807/807\u001b[0m \u001b[32m━━━━━━━━━━━━━━━━━━━━\u001b[0m\u001b[37m\u001b[0m \u001b[1m19s\u001b[0m 24ms/step\n",
      "\u001b[1m807/807\u001b[0m \u001b[32m━━━━━━━━━━━━━━━━━━━━\u001b[0m\u001b[37m\u001b[0m \u001b[1m4s\u001b[0m 4ms/step\n"
     ]
    }
   ],
   "source": [
    "pppy= predict_model(X_V)"
   ]
  },
  {
   "cell_type": "code",
   "execution_count": 78,
   "metadata": {},
   "outputs": [
    {
     "data": {
      "text/plain": [
       "array([[-2.18781702e-06,  3.48196704e-06,  5.34205810e-06,\n",
       "        -5.65851508e-07, -1.24300514e-05],\n",
       "       [-1.04556398e-06,  5.41348390e-06,  6.67426593e-06,\n",
       "        -5.00745614e-07, -1.13341830e-05],\n",
       "       [-5.27254429e-07,  6.65855669e-06,  8.13787210e-06,\n",
       "         5.06088725e-07, -1.07083633e-05],\n",
       "       ...,\n",
       "       [-2.16182571e-06,  1.89612354e-06,  2.27270561e-06,\n",
       "        -4.29907095e-06, -1.28887059e-05],\n",
       "       [-9.63613616e-07,  3.82012240e-06,  3.55314842e-06,\n",
       "        -4.35874335e-06, -1.19599135e-05],\n",
       "       [-4.15310836e-07,  5.30666921e-06,  5.20773165e-06,\n",
       "        -3.34726292e-06, -1.15963157e-05]], dtype=float32)"
      ]
     },
     "execution_count": 78,
     "metadata": {},
     "output_type": "execute_result"
    }
   ],
   "source": [
    "py"
   ]
  },
  {
   "cell_type": "code",
   "execution_count": 79,
   "metadata": {},
   "outputs": [
    {
     "data": {
      "text/plain": [
       "array([[ 4.8474743e-07,  4.5923207e-06,  6.4919450e-06,  2.4653216e-06,\n",
       "        -6.3218599e-06],\n",
       "       [ 1.3526247e-06,  5.9634135e-06,  7.4572467e-06,  2.5887377e-06,\n",
       "        -5.4748734e-06],\n",
       "       [ 1.7014052e-06,  6.7868514e-06,  8.3982322e-06,  3.2104294e-06,\n",
       "        -5.0783792e-06],\n",
       "       ...,\n",
       "       [ 5.3412521e-07,  3.5246176e-06,  4.3914974e-06, -1.3593466e-07,\n",
       "        -6.7811070e-06],\n",
       "       [ 1.4491757e-06,  4.8919974e-06,  5.3194181e-06, -9.9919461e-08,\n",
       "        -6.0548668e-06],\n",
       "       [ 1.8248004e-06,  5.8787150e-06,  6.3928073e-06,  5.3707072e-07,\n",
       "        -5.8116898e-06]], dtype=float32)"
      ]
     },
     "execution_count": 79,
     "metadata": {},
     "output_type": "execute_result"
    }
   ],
   "source": [
    "pppy"
   ]
  },
  {
   "cell_type": "code",
   "execution_count": 80,
   "metadata": {},
   "outputs": [
    {
     "data": {
      "text/plain": [
       "array([[ 7.1550771e-06,  1.5108981e-05,  1.8321263e-05,  1.2440106e-05,\n",
       "        -4.3109148e-07],\n",
       "       [ 8.3874829e-06,  1.7101755e-05,  1.9708219e-05,  1.2590979e-05,\n",
       "         8.0877777e-07],\n",
       "       [ 8.8993038e-06,  1.8309296e-05,  2.1077516e-05,  1.3483041e-05,\n",
       "         1.3737941e-06],\n",
       "       ...,\n",
       "       [ 7.1726708e-06,  1.3516524e-05,  1.5238676e-05,  8.6498530e-06,\n",
       "        -1.0385992e-06],\n",
       "       [ 8.4609046e-06,  1.5499147e-05,  1.6569293e-05,  8.6721711e-06,\n",
       "         2.5011165e-08],\n",
       "       [ 9.0071817e-06,  1.6945853e-05,  1.8130007e-05,  9.5828345e-06,\n",
       "         3.6222730e-07]], dtype=float32)"
      ]
     },
     "execution_count": 80,
     "metadata": {},
     "output_type": "execute_result"
    }
   ],
   "source": [
    "ppy"
   ]
  },
  {
   "cell_type": "code",
   "execution_count": 65,
   "metadata": {},
   "outputs": [
    {
     "data": {
      "text/plain": [
       "array([[-2.18781702e-06,  3.48196704e-06,  5.34205810e-06,\n",
       "        -5.65851508e-07, -1.24300514e-05],\n",
       "       [-1.04556398e-06,  5.41348390e-06,  6.67426593e-06,\n",
       "        -5.00745614e-07, -1.13341830e-05],\n",
       "       [-5.27254429e-07,  6.65855669e-06,  8.13787210e-06,\n",
       "         5.06088725e-07, -1.07083633e-05],\n",
       "       ...,\n",
       "       [-2.16182571e-06,  1.89612354e-06,  2.27270561e-06,\n",
       "        -4.29907095e-06, -1.28887059e-05],\n",
       "       [-9.63613616e-07,  3.82012240e-06,  3.55314842e-06,\n",
       "        -4.35874335e-06, -1.19599135e-05],\n",
       "       [-4.15310836e-07,  5.30666921e-06,  5.20773165e-06,\n",
       "        -3.34726292e-06, -1.15963157e-05]], dtype=float32)"
      ]
     },
     "execution_count": 65,
     "metadata": {},
     "output_type": "execute_result"
    }
   ],
   "source": [
    "result"
   ]
  },
  {
   "cell_type": "code",
   "execution_count": 70,
   "metadata": {},
   "outputs": [
    {
     "name": "stdout",
     "output_type": "stream",
     "text": [
      "\u001b[1m807/807\u001b[0m \u001b[32m━━━━━━━━━━━━━━━━━━━━\u001b[0m\u001b[37m\u001b[0m \u001b[1m20s\u001b[0m 22ms/step\n",
      "\u001b[1m807/807\u001b[0m \u001b[32m━━━━━━━━━━━━━━━━━━━━\u001b[0m\u001b[37m\u001b[0m \u001b[1m3s\u001b[0m 4ms/step\n"
     ]
    }
   ],
   "source": [
    "ppy  = predict_model(X_V)"
   ]
  },
  {
   "cell_type": "code",
   "execution_count": 71,
   "metadata": {},
   "outputs": [
    {
     "data": {
      "text/plain": [
       "array([[ 7.1550771e-06,  1.5108981e-05,  1.8321263e-05,  1.2440106e-05,\n",
       "        -4.3109148e-07],\n",
       "       [ 8.3874829e-06,  1.7101755e-05,  1.9708219e-05,  1.2590979e-05,\n",
       "         8.0877777e-07],\n",
       "       [ 8.8993038e-06,  1.8309296e-05,  2.1077516e-05,  1.3483041e-05,\n",
       "         1.3737941e-06],\n",
       "       ...,\n",
       "       [ 7.1726708e-06,  1.3516524e-05,  1.5238676e-05,  8.6498530e-06,\n",
       "        -1.0385992e-06],\n",
       "       [ 8.4609046e-06,  1.5499147e-05,  1.6569293e-05,  8.6721711e-06,\n",
       "         2.5011165e-08],\n",
       "       [ 9.0071817e-06,  1.6945853e-05,  1.8130007e-05,  9.5828345e-06,\n",
       "         3.6222730e-07]], dtype=float32)"
      ]
     },
     "execution_count": 71,
     "metadata": {},
     "output_type": "execute_result"
    }
   ],
   "source": [
    "ppy"
   ]
  },
  {
   "cell_type": "code",
   "execution_count": 72,
   "metadata": {},
   "outputs": [
    {
     "data": {
      "text/plain": [
       "array([[-2.18781702e-06,  3.48196704e-06,  5.34205810e-06,\n",
       "        -5.65851508e-07, -1.24300514e-05],\n",
       "       [-1.04556398e-06,  5.41348390e-06,  6.67426593e-06,\n",
       "        -5.00745614e-07, -1.13341830e-05],\n",
       "       [-5.27254429e-07,  6.65855669e-06,  8.13787210e-06,\n",
       "         5.06088725e-07, -1.07083633e-05],\n",
       "       ...,\n",
       "       [-2.16182571e-06,  1.89612354e-06,  2.27270561e-06,\n",
       "        -4.29907095e-06, -1.28887059e-05],\n",
       "       [-9.63613616e-07,  3.82012240e-06,  3.55314842e-06,\n",
       "        -4.35874335e-06, -1.19599135e-05],\n",
       "       [-4.15310836e-07,  5.30666921e-06,  5.20773165e-06,\n",
       "        -3.34726292e-06, -1.15963157e-05]], dtype=float32)"
      ]
     },
     "execution_count": 72,
     "metadata": {},
     "output_type": "execute_result"
    }
   ],
   "source": [
    "py"
   ]
  },
  {
   "cell_type": "code",
   "execution_count": null,
   "metadata": {},
   "outputs": [],
   "source": []
  }
 ],
 "metadata": {
  "kernelspec": {
   "display_name": "base",
   "language": "python",
   "name": "python3"
  },
  "language_info": {
   "codemirror_mode": {
    "name": "ipython",
    "version": 3
   },
   "file_extension": ".py",
   "mimetype": "text/x-python",
   "name": "python",
   "nbconvert_exporter": "python",
   "pygments_lexer": "ipython3",
   "version": "3.10.13"
  }
 },
 "nbformat": 4,
 "nbformat_minor": 2
}
