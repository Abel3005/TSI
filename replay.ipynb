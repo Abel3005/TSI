{
 "cells": [
  {
   "cell_type": "code",
   "execution_count": 3,
   "metadata": {},
   "outputs": [],
   "source": [
    "import pandas as pd\n",
    "\n",
    "train_df = pd.read_csv(\"./data/rainfall_train.csv\")\n",
    "test_df = pd.read_csv(\"./data/rainfall_test.csv\")\n",
    "\n",
    "train_df = train_df.drop(columns=['Unnamed: 0', 'rainfall_train.fc_year', 'rainfall_train.fc_month',\n",
    "       'rainfall_train.fc_day', 'rainfall_train.fc_hour'])\n",
    "test_df = test_df.drop(columns=['Unnamed: 0', 'rainfall_test.fc_year', 'rainfall_test.fc_month',\n",
    "       'rainfall_test.fc_day', 'rainfall_test.fc_hour'])"
   ]
  },
  {
   "cell_type": "markdown",
   "metadata": {},
   "source": [
    "## 학습/테스트 데이터 시간/공간적 범위 분석"
   ]
  },
  {
   "cell_type": "markdown",
   "metadata": {},
   "source": [
    "### 시간적 범위 분석"
   ]
  },
  {
   "cell_type": "markdown",
   "metadata": {},
   "source": [
    "**년도(rainfall_ef_year)**"
   ]
  },
  {
   "cell_type": "code",
   "execution_count": 10,
   "metadata": {},
   "outputs": [
    {
     "data": {
      "text/plain": [
       "array(['A', 'B', 'C'], dtype=object)"
      ]
     },
     "execution_count": 10,
     "metadata": {},
     "output_type": "execute_result"
    }
   ],
   "source": [
    "train_df[\"rainfall_train.ef_year\"].unique()"
   ]
  },
  {
   "cell_type": "code",
   "execution_count": 11,
   "metadata": {},
   "outputs": [
    {
     "data": {
      "text/plain": [
       "array(['D'], dtype=object)"
      ]
     },
     "execution_count": 11,
     "metadata": {},
     "output_type": "execute_result"
    }
   ],
   "source": [
    "test_df[\"rainfall_test.ef_year\"].unique()"
   ]
  },
  {
   "cell_type": "markdown",
   "metadata": {},
   "source": [
    "### 공간적 범위 분석\n"
   ]
  },
  {
   "cell_type": "markdown",
   "metadata": {},
   "source": [
    "**지점(rainfall_train.stn4contest)**"
   ]
  },
  {
   "cell_type": "code",
   "execution_count": null,
   "metadata": {},
   "outputs": [
    {
     "data": {
      "text/plain": [
       "array(['STN001', 'STN002', 'STN003', 'STN004', 'STN005', 'STN006',\n",
       "       'STN007', 'STN008', 'STN009', 'STN010', 'STN011', 'STN012',\n",
       "       'STN013', 'STN014', 'STN015', 'STN016', 'STN017', 'STN018',\n",
       "       'STN019', 'STN020'], dtype=object)"
      ]
     },
     "execution_count": 6,
     "metadata": {},
     "output_type": "execute_result"
    }
   ],
   "source": [
    "train_df[\"rainfall_train.stn4contest\"].unique()"
   ]
  },
  {
   "cell_type": "code",
   "execution_count": 7,
   "metadata": {},
   "outputs": [
    {
     "data": {
      "text/plain": [
       "array(['STN031', 'STN032', 'STN033', 'STN034', 'STN035'], dtype=object)"
      ]
     },
     "execution_count": 7,
     "metadata": {},
     "output_type": "execute_result"
    }
   ],
   "source": [
    "test_df[\"rainfall_test.stn4contest\"].unique()"
   ]
  },
  {
   "cell_type": "markdown",
   "metadata": {},
   "source": [
    "**각각의 확률분포에 따라서 강수량 수치 계산: 각 계급별 중간 값 * 확률변수**\n",
    "- 'rainfall_train.v01' : 0.1 -0.2  (mm)\n",
    "- 'rainfall_train.v02' : 0.2 -0.5  (mm)\n",
    "- 'rainfall_train.v03' : 0.5 -1.0  (mm)\n",
    "- 'rainfall_train.v04' : 1.0 -2.0  (mm)\n",
    "- 'rainfall_train.v05' : 2.0 -5.0  (mm)\n",
    "- 'rainfall_train.v06' : 5.0 -10.0 (mm)\n",
    "- 'rainfall_train.v07' : 10.0-20.0 (mm)\n",
    "- 'rainfall_train.v08' : 20.0-30.0 (mm)\n",
    "- 'rainfall_train.v09' : 30.0      (mm)\n",
    "\n",
    "각각의 계급별 중간 값에 따라"
   ]
  }
 ],
 "metadata": {
  "kernelspec": {
   "display_name": "base",
   "language": "python",
   "name": "python3"
  },
  "language_info": {
   "codemirror_mode": {
    "name": "ipython",
    "version": 3
   },
   "file_extension": ".py",
   "mimetype": "text/x-python",
   "name": "python",
   "nbconvert_exporter": "python",
   "pygments_lexer": "ipython3",
   "version": "3.9.20"
  }
 },
 "nbformat": 4,
 "nbformat_minor": 2
}
